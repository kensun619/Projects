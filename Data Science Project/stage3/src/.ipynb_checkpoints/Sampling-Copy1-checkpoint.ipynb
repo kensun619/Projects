{
 "cells": [
  {
   "cell_type": "code",
   "execution_count": 30,
   "metadata": {
    "collapsed": false
   },
   "outputs": [
    {
     "name": "stdout",
     "output_type": "stream",
     "text": [
      "magellan version:0.1.0\n"
     ]
    }
   ],
   "source": [
    "import sys\n",
    "import os\n",
    "import py_entitymatching as em\n",
    "print('magellan version:' + em.__version__)\n",
    "import re\n",
    "import csv\n",
    "import pandas as pd\n",
    "\n",
    "from cleaner import Cleaner\n",
    "from constants import csv_headers"
   ]
  },
  {
   "cell_type": "code",
   "execution_count": 31,
   "metadata": {
    "collapsed": false
   },
   "outputs": [
    {
     "name": "stderr",
     "output_type": "stream",
     "text": [
      "WARNING:py_entitymatching.io.parsers:Metadata file is not present in the given path; proceeding to read the csv file.\n",
      "WARNING:py_entitymatching.io.parsers:Metadata file is not present in the given path; proceeding to read the csv file.\n"
     ]
    },
    {
     "name": "stdout",
     "output_type": "stream",
     "text": [
      "2067\n",
      "id: 4868009656\n",
      "ltable(obj.id): 4854137464\n",
      "fk_ltable: ltable_a_id\n",
      "rtable(obj.id): 4857698288\n",
      "fk_rtable: rtable_person_id\n",
      "key: _id\n",
      "None\n"
     ]
    }
   ],
   "source": [
    "working_dir = os.path.dirname(os.getcwd())\n",
    "path_to_csv_dir = working_dir + os.sep + 'csv_files'+ os.sep\n",
    "\n",
    "AOM = em.read_csv_metadata(path_to_csv_dir + '_AOM.csv', key = csv_headers.AOM_INDEX)\n",
    "WHED = em.read_csv_metadata(path_to_csv_dir + '_WHED.csv', key = csv_headers.WHED_INDEX)\n",
    "\n",
    "#sample_AOM = em.read_csv_metadata(path_to_csv_dir + 'sample_AOM.csv', key = csv_headers.AOM_INDEX)\n",
    "#sample_WHED = em.read_csv_metadata(path_to_csv_dir + 'sample_WHED.csv', key = csv_headers.WHED_INDEX)\n",
    "\n",
    "C = em.load_table(path_to_csv_dir + 'matching_pairs_table.pkl')\n",
    "em.set_ltable(C, WHED)\n",
    "em.set_rtable(C, AOM)\n",
    "\n",
    "print(C.size)\n",
    "print(em.show_properties(C))"
   ]
  },
  {
   "cell_type": "code",
   "execution_count": null,
   "metadata": {
    "collapsed": false
   },
   "outputs": [
    {
     "name": "stderr",
     "output_type": "stream",
     "text": [
      "WARNING:py_entitymatching.utils.catalog_helper:Column name (gold_label) is not present in dataframe\n",
      "WARNING:py_entitymatching.io.parsers:File already exists at /Users/Ken/GitHub/cs838-spring2017/stage3/csv_files/G0.csv; Overwriting it\n",
      "WARNING:py_entitymatching.io.parsers:Metadata file already exists at /Users/Ken/GitHub/cs838-spring2017/stage3/csv_files/G0.metadata. Overwriting it\n",
      "WARNING:py_entitymatching.utils.catalog_helper:Column name (gold_label) is not present in dataframe\n"
     ]
    }
   ],
   "source": [
    "G_all = []\n",
    "for i in range(2):\n",
    "    S = em.sample_table(C, 30)\n",
    "    G = em.label_table(S, 'gold_label')\n",
    "    em.to_csv_metadata(G,path_to_csv_dir + 'G' + str(i) + '.csv')   \n",
    "    G_all.append(G)"
   ]
  },
  {
   "cell_type": "code",
   "execution_count": 25,
   "metadata": {
    "collapsed": false
   },
   "outputs": [
    {
     "data": {
      "text/plain": [
       "[0.16666666666666666,\n",
       " 0.033333333333333333,\n",
       " 0.0,\n",
       " 0.10000000000000001,\n",
       " 0.066666666666666666,\n",
       " 0.10000000000000001,\n",
       " 0.0,\n",
       " 0.066666666666666666,\n",
       " 0.066666666666666666,\n",
       " 0.0]"
      ]
     },
     "execution_count": 25,
     "metadata": {},
     "output_type": "execute_result"
    }
   ],
   "source": [
    "count_all = []\n",
    "for i in range(10):\n",
    "    tmp = G_all[i]['gold_label']\n",
    "    count_all.append((sum(tmp)))\n",
    "ratio = [i/30 for i in count_all]\n",
    "ratio"
   ]
  },
  {
   "cell_type": "code",
   "execution_count": null,
   "metadata": {
    "collapsed": true
   },
   "outputs": [],
   "source": [
    "count_all"
   ]
  },
  {
   "cell_type": "code",
   "execution_count": null,
   "metadata": {
    "collapsed": true
   },
   "outputs": [],
   "source": []
  }
 ],
 "metadata": {
  "kernelspec": {
   "display_name": "Python 3",
   "language": "python",
   "name": "python3"
  },
  "language_info": {
   "codemirror_mode": {
    "name": "ipython",
    "version": 3
   },
   "file_extension": ".py",
   "mimetype": "text/x-python",
   "name": "python",
   "nbconvert_exporter": "python",
   "pygments_lexer": "ipython3",
   "version": "3.5.3"
  }
 },
 "nbformat": 4,
 "nbformat_minor": 2
}
