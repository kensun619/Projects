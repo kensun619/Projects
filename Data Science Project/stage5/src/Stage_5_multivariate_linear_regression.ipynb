{
 "cells": [
  {
   "cell_type": "markdown",
   "metadata": {},
   "source": [
    "In this project stage you will do some data analysis on the integrated and cleaned table, to infer insights. This analysis is something of your own choosing. But it must involve one of the key techniques that we will cover in the class: classification, clustering, correlation discovery, anomaly detection, or OLAP-style exploration. I will discuss more in the class. \n",
    "\n",
    "What to submit\n",
    "\n",
    "Submit the following on your group's website: \n",
    "- a CSV file storing Table E, the integrated table which is the output of project stage 4. \n",
    "- a pdf file that discusses the following issues: \n",
    "    - Statistics on Table E: specifically, what is the schema of Table E, how many tuples are in Table E? Give at least four sample tuples from Table E. \n",
    "    - What was the data analysis task that you wanted to do? (Example: we wanted to know if we can use the rest of the attributes to accurately predict the value of the attribute loan_repaid.) For that task, describe in detail the data analysis process that you went through. \n",
    "    - Give any accuracy numbers that you have obtained (such as precision and recall for your classification scheme). \n",
    "    - What did you learn/conclude from your data analysis? Were there any problems with the analysis process and with the data? \n",
    "    - If you have more time, what would you propose you can do next? \n",
    "\n",
    "\n",
    "visualize thi pyplot\n",
    "\n",
    "calculate thi Numpy, Scipy\n",
    "\n",
    "Scikit"
   ]
  },
  {
   "cell_type": "markdown",
   "metadata": {},
   "source": [
    "\n",
    "#  Stage 5: Data Analysis #\n",
    "\n",
    "#### Trang Ho, Thomas Ngo, Qinyuan Sun\n",
    "\n"
   ]
  },
  {
   "cell_type": "markdown",
   "metadata": {},
   "source": [
    "## Dataset\n",
    "In this project stage, we will do analysis on the merged table E of two tables AOM and IPEDS. The CSV file storing table E can be found here (NOTE: Put link here)\n",
    "\n",
    "NOTE: put some info about the merged table, such as these data from year 2006..2014\n",
    "\n",
    "Below is the schema of table E:\n",
    "\n",
    "| Attribute name | Description                                                                   |\n",
    "| -------------- |:-----------------------------------------------------------------------------:|\n",
    "| year           | The year the individual attended the conference                               |\n",
    "| pid            | The individual ID                                                             |\n",
    "| ipeds_aid      | The individual's affiliation ID                                               |\n",
    "| ipeds_name     | The individual's affiliation name                                             |                               \n",
    "| ipeds_alias    | The individual's affiliation alias                                            |\n",
    "| ipeds_city     | The individual's affiliation city                                             |\n",
    "| ipeds_prov     | The individual's affiliation province                                         |\n",
    "| ipeds_web      | The individual's affiliation website                                          |\n",
    "| GROFFER        | The individual's affiliation graduate offering                                |\n",
    "| CCSIZSET       | The individual's affiliation Size and Setting by Carnegie Classification 2010 |\n",
    "| INSTSIZE       | The individual's affiliation institution size category                        |\n",
    "| CBSATYPE       | The individual's affiliation CBSA Type Metropolitan or Micropolitan           |\n",
    "\n",
    "NOTE: The possible categorical values of GROFFER, CCSIZSET, INSTSIZE, CBSATYPE can be found here (NOTE: Put link here)\n",
    "\n",
    "There are total of 35585 tuples in table E. Below are 5 sample tupes from E"
   ]
  },
  {
   "cell_type": "code",
   "execution_count": 2,
   "metadata": {
    "collapsed": false
   },
   "outputs": [
    {
     "data": {
      "text/html": [
       "<div>\n",
       "<table border=\"1\" class=\"dataframe\">\n",
       "  <thead>\n",
       "    <tr style=\"text-align: right;\">\n",
       "      <th></th>\n",
       "      <th>ipeds_aid</th>\n",
       "      <th>ipeds_name</th>\n",
       "      <th>ipeds_alias</th>\n",
       "      <th>ipeds_city</th>\n",
       "      <th>ipeds_prov</th>\n",
       "      <th>ipeds_web</th>\n",
       "      <th>GROFFER</th>\n",
       "      <th>CCSIZSET</th>\n",
       "      <th>INSTSIZE</th>\n",
       "      <th>CBSATYPE</th>\n",
       "    </tr>\n",
       "  </thead>\n",
       "  <tbody>\n",
       "    <tr>\n",
       "      <th>0</th>\n",
       "      <td>100663</td>\n",
       "      <td>university of alabama at birmingham</td>\n",
       "      <td>0</td>\n",
       "      <td>birmingham</td>\n",
       "      <td>alabama</td>\n",
       "      <td>www.uab.edu</td>\n",
       "      <td>1</td>\n",
       "      <td>15</td>\n",
       "      <td>4</td>\n",
       "      <td>1</td>\n",
       "    </tr>\n",
       "    <tr>\n",
       "      <th>1</th>\n",
       "      <td>100706</td>\n",
       "      <td>university of alabama in huntsville</td>\n",
       "      <td>uah |university of alabama huntsville</td>\n",
       "      <td>huntsville</td>\n",
       "      <td>alabama</td>\n",
       "      <td>www.uah.edu</td>\n",
       "      <td>1</td>\n",
       "      <td>12</td>\n",
       "      <td>3</td>\n",
       "      <td>1</td>\n",
       "    </tr>\n",
       "    <tr>\n",
       "      <th>2</th>\n",
       "      <td>100751</td>\n",
       "      <td>the university of alabama</td>\n",
       "      <td>0</td>\n",
       "      <td>tuscaloosa</td>\n",
       "      <td>alabama</td>\n",
       "      <td>www.ua.edu/</td>\n",
       "      <td>1</td>\n",
       "      <td>16</td>\n",
       "      <td>5</td>\n",
       "      <td>1</td>\n",
       "    </tr>\n",
       "    <tr>\n",
       "      <th>3</th>\n",
       "      <td>100830</td>\n",
       "      <td>auburn university at montgomery</td>\n",
       "      <td>aum|auburn university montgomery|auburn univer...</td>\n",
       "      <td>montgomery</td>\n",
       "      <td>alabama</td>\n",
       "      <td>www.aum.edu</td>\n",
       "      <td>1</td>\n",
       "      <td>12</td>\n",
       "      <td>3</td>\n",
       "      <td>1</td>\n",
       "    </tr>\n",
       "    <tr>\n",
       "      <th>4</th>\n",
       "      <td>100858</td>\n",
       "      <td>auburn university</td>\n",
       "      <td>0</td>\n",
       "      <td>auburn university</td>\n",
       "      <td>alabama</td>\n",
       "      <td>www.auburn.edu</td>\n",
       "      <td>1</td>\n",
       "      <td>15</td>\n",
       "      <td>5</td>\n",
       "      <td>1</td>\n",
       "    </tr>\n",
       "  </tbody>\n",
       "</table>\n",
       "</div>"
      ],
      "text/plain": [
       "   ipeds_aid                           ipeds_name  \\\n",
       "0     100663  university of alabama at birmingham   \n",
       "1     100706  university of alabama in huntsville   \n",
       "2     100751            the university of alabama   \n",
       "3     100830      auburn university at montgomery   \n",
       "4     100858                    auburn university   \n",
       "\n",
       "                                         ipeds_alias         ipeds_city  \\\n",
       "0                                                  0         birmingham   \n",
       "1              uah |university of alabama huntsville         huntsville   \n",
       "2                                                  0         tuscaloosa   \n",
       "3  aum|auburn university montgomery|auburn univer...         montgomery   \n",
       "4                                                  0  auburn university   \n",
       "\n",
       "  ipeds_prov       ipeds_web  GROFFER  CCSIZSET  INSTSIZE  CBSATYPE  \n",
       "0    alabama     www.uab.edu        1        15         4         1  \n",
       "1    alabama     www.uah.edu        1        12         3         1  \n",
       "2    alabama     www.ua.edu/        1        16         5         1  \n",
       "3    alabama     www.aum.edu        1        12         3         1  \n",
       "4    alabama  www.auburn.edu        1        15         5         1  "
      ]
     },
     "execution_count": 2,
     "metadata": {},
     "output_type": "execute_result"
    }
   ],
   "source": [
    "import os\n",
    "import pandas as pd\n",
    "\n",
    "working_dir = os.path.dirname(os.getcwd())\n",
    "path_to_csv_dir = working_dir + os.sep + 'data'+ os.sep\n",
    "data = pd.read_csv(path_to_csv_dir + '_aom_mapped_v2.csv')\n",
    "data_school = pd.read_csv(path_to_csv_dir + '_aom_filtered_school.csv')\n",
    "\n",
    "data.head(5)\n",
    "\n",
    "data_school.head(5)"
   ]
  },
  {
   "cell_type": "markdown",
   "metadata": {},
   "source": [
    "## Analysis"
   ]
  },
  {
   "cell_type": "code",
   "execution_count": 3,
   "metadata": {
    "collapsed": false,
    "scrolled": true
   },
   "outputs": [],
   "source": [
    "import numpy as np\n",
    "import scipy, sklearn, matplotlib\n",
    "import matplotlib.pyplot as plt"
   ]
  },
  {
   "cell_type": "markdown",
   "metadata": {},
   "source": [
    "### Trends in number of attendees by affliations with most attendees from 2006 - 2014"
   ]
  },
  {
   "cell_type": "code",
   "execution_count": 4,
   "metadata": {
    "collapsed": false
   },
   "outputs": [],
   "source": [
    "data_by_year = {}\n",
    "for year in range(2006, 2015):\n",
    "    data_by_year[year] = data[data['year'] == year]  \n",
    "most_attendees_schools_by_year = {}\n",
    "attendees_by_year ={}\n",
    "for year in range(2006, 2015):\n",
    "    attendees_by_year[year] = data_by_year[year].groupby(\"ipeds_aid\").agg({\"pid\": pd.Series.nunique}).reset_index()\n",
    "    most_attendees_schools_by_year[year] = attendees_by_year[year].sort_values('pid', ascending=False)\n",
    "    \n"
   ]
  },
  {
   "cell_type": "markdown",
   "metadata": {
    "collapsed": true
   },
   "source": [
    "## Correlation between school types/sizes and number of attendees"
   ]
  },
  {
   "cell_type": "code",
   "execution_count": 5,
   "metadata": {
    "collapsed": false
   },
   "outputs": [
    {
     "name": "stdout",
     "output_type": "stream",
     "text": [
      "922\n"
     ]
    }
   ],
   "source": [
    "print(len(data_school))"
   ]
  },
  {
   "cell_type": "code",
   "execution_count": 6,
   "metadata": {
    "collapsed": false
   },
   "outputs": [
    {
     "name": "stdout",
     "output_type": "stream",
     "text": [
      "Year 2006\n",
      "Coefficients: \n",
      " [-4.58057063  0.09410764  3.67850809 -2.32049815]\n",
      "P value:\n",
      " [[  2.08432299e-04   4.22956538e-01   0.00000000e+00   8.27720353e-03]]\n",
      "Year 2007\n",
      "Coefficients: \n",
      " [-4.67011759  0.14222568  3.65833823 -2.05064062]\n",
      "P value:\n",
      " [[  1.33313468e-04   2.65111173e-01   0.00000000e+00   1.88771136e-02]]\n",
      "Year 2008\n",
      "Coefficients: \n",
      " [-3.74103525  0.04831408  3.86492662 -2.62325267]\n",
      "P value:\n",
      " [[ 0.00097235  0.67236023  0.          0.00345529]]\n",
      "Year 2009\n",
      "Coefficients: \n",
      " [-4.50983243  0.06434592  3.91027156 -2.09771174]\n",
      "P value:\n",
      " [[  1.32412459e-04   6.05902973e-01   0.00000000e+00   1.59609362e-02]]\n",
      "Year 2010\n",
      "Coefficients: \n",
      " [-4.64864721  0.09302469  3.92050257 -2.22203631]\n",
      "P value:\n",
      " [[  2.54228081e-04   4.55146434e-01   0.00000000e+00   2.47491045e-02]]\n",
      "Year 2011\n",
      "Coefficients: \n",
      " [-4.3743      0.05756542  3.46904807 -1.26588787]\n",
      "P value:\n",
      " [[  2.83490718e-05   5.85995995e-01   0.00000000e+00   8.21552903e-02]]\n",
      "Year 2012\n",
      "Coefficients: \n",
      " [-4.2549058   0.0510099   3.83771044 -2.16356236]\n",
      "P value:\n",
      " [[  3.52189291e-04   6.58246805e-01   0.00000000e+00   1.68035752e-02]]\n",
      "Year 2013\n",
      "Coefficients: \n",
      " [-4.17450054  0.10768541  3.49239847 -2.28672586]\n",
      "P value:\n",
      " [[ 0.0012586   0.32529008  0.          0.02295623]]\n",
      "Year 2014\n",
      "Coefficients: \n",
      " [-4.49409568  0.08565761  3.99767109 -2.38080095]\n",
      "P value:\n",
      " [[  2.92860536e-04   5.22512222e-01   0.00000000e+00   1.44345130e-02]]\n"
     ]
    }
   ],
   "source": [
    "# each year \n",
    "from sklearn import linear_model\n",
    "from scipy import stats\n",
    "class LinearRegression(linear_model.LinearRegression):\n",
    "    \"\"\"\n",
    "    LinearRegression class after sklearn's, but calculate t-statistics\n",
    "    and p-values for model coefficients (betas).\n",
    "    Additional attributes available after .fit()\n",
    "    are `t` and `p` which are of the shape (y.shape[1], X.shape[1])\n",
    "    which is (n_features, n_coefs)\n",
    "    This class sets the intercept to 0 by default, since usually we include it\n",
    "    in X.\n",
    "    \"\"\"\n",
    "\n",
    "    def __init__(self, *args, **kwargs):\n",
    "        if not \"fit_intercept\" in kwargs:\n",
    "            kwargs['fit_intercept'] = False\n",
    "        super(LinearRegression, self)\\\n",
    "                .__init__(*args, **kwargs)\n",
    "\n",
    "    def fit(self, X, y, n_jobs=1):\n",
    "        self = super(LinearRegression, self).fit(X, y, n_jobs)\n",
    "\n",
    "        sse = np.sum((self.predict(X) - y) ** 2, axis=0) / float(X.shape[0] - X.shape[1])\n",
    "        se = np.array([np.sqrt(np.diagonal(sse * np.linalg.inv(np.dot(X.T, X))))])\n",
    "\n",
    "        self.t = self.coef_ / se\n",
    "        self.p = 2 * (1 - stats.t.cdf(np.abs(self.t), y.shape[0] - X.shape[1]))\n",
    "        return self\n",
    "\n",
    "# For each year \n",
    "for yr in range(2006, 2015):\n",
    "    selected_school = data_school.loc[(data_school['ipeds_aid'].isin(attendees_by_year[yr]['ipeds_aid']))]\n",
    "    attendee_per_school = pd.merge(selected_school, attendees_by_year[yr], on='ipeds_aid')\n",
    "\n",
    "#    attendee_per_school.head(5)\n",
    "    reg = LinearRegression()\n",
    "    X = (attendee_per_school[['GROFFER','CCSIZSET','INSTSIZE','CBSATYPE']]).values\n",
    "    Y = (attendee_per_school['pid']).values\n",
    "    reg.fit(X,Y)\n",
    "    print('Year', yr)\n",
    "    print('Coefficients: \\n', reg.coef_)\n",
    "    print('P value:\\n', reg.p)\n",
    "    #print('T value:\\n', reg.t)\n"
   ]
  },
  {
   "cell_type": "code",
   "execution_count": 10,
   "metadata": {
    "collapsed": false
   },
   "outputs": [
    {
     "name": "stdout",
     "output_type": "stream",
     "text": [
      "Year 2014\n",
      "Coefficients: \n",
      " [-24.77247609   0.10817666  23.03223748 -11.17416757]\n",
      "P value:\n",
      " [[  4.48128645e-10   8.12213399e-01   0.00000000e+00   6.51971223e-04]]\n"
     ]
    }
   ],
   "source": [
    "# Combine all the years\n",
    "attendees_aggr = data.groupby(\"ipeds_aid\").agg({\"pid\": pd.Series.nunique}).reset_index()\n",
    "selected_school = data_school.loc[(data_school['ipeds_aid'].isin(attendees_aggr['ipeds_aid']))]\n",
    "attendee_per_school = pd.merge(selected_school, attendees_aggr, on='ipeds_aid')\n",
    "\n",
    "reg = LinearRegression()\n",
    "X = (attendee_per_school[['GROFFER','CCSIZSET','INSTSIZE','CBSATYPE']]).values\n",
    "Y = (attendee_per_school['pid']).values\n",
    "reg.fit(X,Y)\n",
    "print('Year', yr)\n",
    "print('Coefficients: \\n', reg.coef_)\n",
    "print('P value:\\n', reg.p)\n",
    "#print('T value:\\n', reg.t)"
   ]
  },
  {
   "cell_type": "code",
   "execution_count": null,
   "metadata": {
    "collapsed": true
   },
   "outputs": [],
   "source": []
  }
 ],
 "metadata": {
  "kernelspec": {
   "display_name": "Python 3",
   "language": "python",
   "name": "python3"
  },
  "language_info": {
   "codemirror_mode": {
    "name": "ipython",
    "version": 3
   },
   "file_extension": ".py",
   "mimetype": "text/x-python",
   "name": "python",
   "nbconvert_exporter": "python",
   "pygments_lexer": "ipython3",
   "version": "3.5.3"
  }
 },
 "nbformat": 4,
 "nbformat_minor": 2
}
