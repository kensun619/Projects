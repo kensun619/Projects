{
 "cells": [
  {
   "cell_type": "markdown",
   "metadata": {},
   "source": [
    "In this project stage you will do some data analysis on the integrated and cleaned table, to infer insights. This analysis is something of your own choosing. But it must involve one of the key techniques that we will cover in the class: classification, clustering, correlation discovery, anomaly detection, or OLAP-style exploration. I will discuss more in the class. \n",
    "\n",
    "What to submit\n",
    "\n",
    "Submit the following on your group's website: \n",
    "- a CSV file storing Table E, the integrated table which is the output of project stage 4. \n",
    "- a pdf file that discusses the following issues: \n",
    "    - Statistics on Table E: specifically, what is the schema of Table E, how many tuples are in Table E? Give at least four sample tuples from Table E. \n",
    "    - What was the data analysis task that you wanted to do? (Example: we wanted to know if we can use the rest of the attributes to accurately predict the value of the attribute loan_repaid.) For that task, describe in detail the data analysis process that you went through. \n",
    "    - Give any accuracy numbers that you have obtained (such as precision and recall for your classification scheme). \n",
    "    - What did you learn/conclude from your data analysis? Were there any problems with the analysis process and with the data? \n",
    "    - If you have more time, what would you propose you can do next? \n",
    "\n",
    "\n",
    "visualize thi pyplot\n",
    "\n",
    "calculate thi Numpy, Scipy\n",
    "\n",
    "Scikit"
   ]
  },
  {
   "cell_type": "markdown",
   "metadata": {},
   "source": [
    "\n",
    "#  Stage 5: Data Analysis #\n",
    "\n",
    "#### Trang Ho, Thomas Ngo, Qinyuan Sun\n",
    "\n"
   ]
  },
  {
   "cell_type": "markdown",
   "metadata": {},
   "source": [
    "## Dataset\n",
    "In this project stage, we will do analysis on the merged table E of two tables AOM and IPEDS. The CSV file storing table E can be found here (NOTE: Put link here)\n",
    "\n",
    "NOTE: put some info about the merged table, such as these data from year 2006..2014\n",
    "\n",
    "Below is the schema of table E:\n",
    "\n",
    "| Attribute name | Description                                                                   |\n",
    "| -------------- |:-----------------------------------------------------------------------------:|\n",
    "| year           | The year the individual attended the conference                               |\n",
    "| pid            | The individual ID                                                             |\n",
    "| ipeds_aid      | The individual's affiliation ID                                               |\n",
    "| ipeds_name     | The individual's affiliation name                                             |                               \n",
    "| ipeds_alias    | The individual's affiliation alias                                            |\n",
    "| ipeds_city     | The individual's affiliation city                                             |\n",
    "| ipeds_prov     | The individual's affiliation province                                         |\n",
    "| ipeds_web      | The individual's affiliation website                                          |\n",
    "| GROFFER        | The individual's affiliation graduate offering                                |\n",
    "| CCSIZSET       | The individual's affiliation Size and Setting by Carnegie Classification 2010 |\n",
    "| INSTSIZE       | The individual's affiliation institution size category                        |\n",
    "| CBSATYPE       | The individual's affiliation CBSA Type Metropolitan or Micropolitan           |\n",
    "\n",
    "NOTE: The possible categorical values of GROFFER, CCSIZSET, INSTSIZE, CBSATYPE can be found here (NOTE: Put link here)\n",
    "\n",
    "There are total of 35585 tuples in table E. Below are 5 sample tupes from E"
   ]
  },
  {
   "cell_type": "code",
   "execution_count": 125,
   "metadata": {
    "collapsed": false
   },
   "outputs": [
    {
     "data": {
      "text/html": [
       "<div>\n",
       "<table border=\"1\" class=\"dataframe\">\n",
       "  <thead>\n",
       "    <tr style=\"text-align: right;\">\n",
       "      <th></th>\n",
       "      <th>year</th>\n",
       "      <th>pid</th>\n",
       "      <th>ipeds_aid</th>\n",
       "      <th>ipeds_name</th>\n",
       "      <th>ipeds_alias</th>\n",
       "      <th>ipeds_city</th>\n",
       "      <th>ipeds_prov</th>\n",
       "      <th>ipeds_web</th>\n",
       "      <th>GROFFER</th>\n",
       "      <th>CCSIZSET</th>\n",
       "      <th>INSTSIZE</th>\n",
       "      <th>CBSATYPE</th>\n",
       "    </tr>\n",
       "  </thead>\n",
       "  <tbody>\n",
       "    <tr>\n",
       "      <th>0</th>\n",
       "      <td>2007</td>\n",
       "      <td>296447</td>\n",
       "      <td>100663</td>\n",
       "      <td>university of alabama at birmingham</td>\n",
       "      <td>0</td>\n",
       "      <td>birmingham</td>\n",
       "      <td>alabama</td>\n",
       "      <td>www.uab.edu</td>\n",
       "      <td>1</td>\n",
       "      <td>15</td>\n",
       "      <td>4</td>\n",
       "      <td>1</td>\n",
       "    </tr>\n",
       "    <tr>\n",
       "      <th>1</th>\n",
       "      <td>2014</td>\n",
       "      <td>653507</td>\n",
       "      <td>100663</td>\n",
       "      <td>university of alabama at birmingham</td>\n",
       "      <td>0</td>\n",
       "      <td>birmingham</td>\n",
       "      <td>alabama</td>\n",
       "      <td>www.uab.edu</td>\n",
       "      <td>1</td>\n",
       "      <td>15</td>\n",
       "      <td>4</td>\n",
       "      <td>1</td>\n",
       "    </tr>\n",
       "    <tr>\n",
       "      <th>2</th>\n",
       "      <td>2008</td>\n",
       "      <td>287610</td>\n",
       "      <td>100663</td>\n",
       "      <td>university of alabama at birmingham</td>\n",
       "      <td>0</td>\n",
       "      <td>birmingham</td>\n",
       "      <td>alabama</td>\n",
       "      <td>www.uab.edu</td>\n",
       "      <td>1</td>\n",
       "      <td>15</td>\n",
       "      <td>4</td>\n",
       "      <td>1</td>\n",
       "    </tr>\n",
       "    <tr>\n",
       "      <th>3</th>\n",
       "      <td>2014</td>\n",
       "      <td>18785</td>\n",
       "      <td>100663</td>\n",
       "      <td>university of alabama at birmingham</td>\n",
       "      <td>0</td>\n",
       "      <td>birmingham</td>\n",
       "      <td>alabama</td>\n",
       "      <td>www.uab.edu</td>\n",
       "      <td>1</td>\n",
       "      <td>15</td>\n",
       "      <td>4</td>\n",
       "      <td>1</td>\n",
       "    </tr>\n",
       "    <tr>\n",
       "      <th>4</th>\n",
       "      <td>2009</td>\n",
       "      <td>66090</td>\n",
       "      <td>100663</td>\n",
       "      <td>university of alabama at birmingham</td>\n",
       "      <td>0</td>\n",
       "      <td>birmingham</td>\n",
       "      <td>alabama</td>\n",
       "      <td>www.uab.edu</td>\n",
       "      <td>1</td>\n",
       "      <td>15</td>\n",
       "      <td>4</td>\n",
       "      <td>1</td>\n",
       "    </tr>\n",
       "  </tbody>\n",
       "</table>\n",
       "</div>"
      ],
      "text/plain": [
       "   year     pid  ipeds_aid                           ipeds_name ipeds_alias  \\\n",
       "0  2007  296447     100663  university of alabama at birmingham           0   \n",
       "1  2014  653507     100663  university of alabama at birmingham           0   \n",
       "2  2008  287610     100663  university of alabama at birmingham           0   \n",
       "3  2014   18785     100663  university of alabama at birmingham           0   \n",
       "4  2009   66090     100663  university of alabama at birmingham           0   \n",
       "\n",
       "   ipeds_city ipeds_prov    ipeds_web  GROFFER  CCSIZSET  INSTSIZE  CBSATYPE  \n",
       "0  birmingham    alabama  www.uab.edu        1        15         4         1  \n",
       "1  birmingham    alabama  www.uab.edu        1        15         4         1  \n",
       "2  birmingham    alabama  www.uab.edu        1        15         4         1  \n",
       "3  birmingham    alabama  www.uab.edu        1        15         4         1  \n",
       "4  birmingham    alabama  www.uab.edu        1        15         4         1  "
      ]
     },
     "execution_count": 125,
     "metadata": {},
     "output_type": "execute_result"
    }
   ],
   "source": [
    "import os\n",
    "import pandas as pd\n",
    "\n",
    "working_dir = os.path.dirname(os.getcwd())\n",
    "path_to_csv_dir = working_dir + os.sep + 'data'+ os.sep\n",
    "data = pd.read_csv(path_to_csv_dir + '_aom_mapped_v2.csv')\n",
    "\n",
    "data.head(5)"
   ]
  },
  {
   "cell_type": "markdown",
   "metadata": {},
   "source": [
    "## Analysis"
   ]
  },
  {
   "cell_type": "code",
   "execution_count": 121,
   "metadata": {
    "collapsed": true
   },
   "outputs": [],
   "source": [
    "import numpy as np\n",
    "import scipy, sklearn, matplotlib\n",
    "import matplotlib.pyplot as plt"
   ]
  },
  {
   "cell_type": "markdown",
   "metadata": {},
   "source": [
    "### Trends in number of attendees by affliations with most attendees from 2006 - 2014"
   ]
  },
  {
   "cell_type": "code",
   "execution_count": 124,
   "metadata": {
    "collapsed": false
   },
   "outputs": [
    {
     "name": "stdout",
     "output_type": "stream",
     "text": [
      "{2006:            pid\n",
      "ipeds_aid     \n",
      "166027      62\n",
      "170976      59\n",
      "215062      54\n",
      "174066      53\n",
      "171100      49\n",
      "193900      48\n",
      "163286      48\n",
      "145637      46\n",
      "190415      45\n",
      "139959      42, 2007:            pid\n",
      "ipeds_aid     \n",
      "166027      91\n",
      "215062      64\n",
      "170976      64\n",
      "145637      61\n",
      "243744      60\n",
      "214777      58\n",
      "163286      57\n",
      "171100      56\n",
      "174066      55\n",
      "190415      54, 2008:            pid\n",
      "ipeds_aid     \n",
      "166027      76\n",
      "170976      70\n",
      "171100      64\n",
      "163286      58\n",
      "243744      58\n",
      "215062      57\n",
      "174066      56\n",
      "123961      53\n",
      "193900      52\n",
      "145637      51, 2009:            pid\n",
      "ipeds_aid     \n",
      "170976      79\n",
      "166027      76\n",
      "163286      65\n",
      "145637      58\n",
      "190415      57\n",
      "215062      54\n",
      "174066      53\n",
      "243744      53\n",
      "228723      51\n",
      "171100      48, 2010:            pid\n",
      "ipeds_aid     \n",
      "166027      92\n",
      "170976      77\n",
      "215062      64\n",
      "174066      63\n",
      "228723      60\n",
      "163286      57\n",
      "145637      55\n",
      "190415      52\n",
      "201645      52\n",
      "243744      50, 2011:            pid\n",
      "ipeds_aid     \n",
      "166027      81\n",
      "163286      61\n",
      "215062      59\n",
      "170976      56\n",
      "228723      50\n",
      "201645      47\n",
      "174066      46\n",
      "190415      45\n",
      "171100      44\n",
      "214777      44, 2012:            pid\n",
      "ipeds_aid     \n",
      "166027     104\n",
      "170976      64\n",
      "163286      59\n",
      "190415      56\n",
      "215062      54\n",
      "145637      53\n",
      "201645      51\n",
      "174066      50\n",
      "243744      49\n",
      "166683      47, 2013:            pid\n",
      "ipeds_aid     \n",
      "166027      80\n",
      "170976      64\n",
      "215062      56\n",
      "190415      55\n",
      "190150      50\n",
      "201645      50\n",
      "145637      47\n",
      "163286      46\n",
      "214777      45\n",
      "228723      45, 2014:            pid\n",
      "ipeds_aid     \n",
      "166027     110\n",
      "215062      71\n",
      "170976      71\n",
      "214777      62\n",
      "174066      62\n",
      "243744      58\n",
      "190150      53\n",
      "193900      50\n",
      "190415      50\n",
      "201645      47}\n"
     ]
    }
   ],
   "source": [
    "data_by_year = {}\n",
    "for year in range(2006, 2015):\n",
    "    data_by_year[year] = data[data['year'] == year]\n",
    "    \n",
    "most_attendees_schools_by_year = {}\n",
    "\n",
    "for year in range(2006, 2015):\n",
    "    attendees_by_year = data_by_year[year].groupby(\"ipeds_aid\").agg({\"pid\": pd.Series.nunique})\n",
    "    most_attendees_schools_by_year[year] = attendees_by_year.sort_values('pid', ascending=False).head(10)\n",
    "\n",
    "print(most_attendees_schools_by_year)"
   ]
  },
  {
   "cell_type": "markdown",
   "metadata": {
    "collapsed": true
   },
   "source": [
    "## Correlation between school types/sizes and number of attendees"
   ]
  },
  {
   "cell_type": "code",
   "execution_count": 119,
   "metadata": {
    "collapsed": false
   },
   "outputs": [
    {
     "name": "stdout",
     "output_type": "stream",
     "text": [
      "35585\n"
     ]
    }
   ],
   "source": [
    "print(len(data))"
   ]
  },
  {
   "cell_type": "code",
   "execution_count": 126,
   "metadata": {
    "collapsed": false
   },
   "outputs": [
    {
     "name": "stdout",
     "output_type": "stream",
     "text": [
      "ipeds_aid 921\n"
     ]
    }
   ],
   "source": [
    "print('ipeds_aid', len(np.unique(data['ipeds_aid'])))"
   ]
  },
  {
   "cell_type": "code",
   "execution_count": null,
   "metadata": {
    "collapsed": true
   },
   "outputs": [],
   "source": []
  }
 ],
 "metadata": {
  "kernelspec": {
   "display_name": "Python 3",
   "language": "python",
   "name": "python3"
  },
  "language_info": {
   "codemirror_mode": {
    "name": "ipython",
    "version": 3
   },
   "file_extension": ".py",
   "mimetype": "text/x-python",
   "name": "python",
   "nbconvert_exporter": "python",
   "pygments_lexer": "ipython3",
   "version": "3.5.3"
  }
 },
 "nbformat": 4,
 "nbformat_minor": 2
}
