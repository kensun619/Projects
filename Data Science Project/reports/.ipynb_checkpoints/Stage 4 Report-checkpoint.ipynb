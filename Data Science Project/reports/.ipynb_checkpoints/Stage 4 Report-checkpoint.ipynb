{
 "cells": [
  {
   "cell_type": "markdown",
   "metadata": {},
   "source": [
    "\n",
    "#  Stage 4: Combining Two Tables #\n",
    "\n",
    "#### Trang Ho, Thomas Ngo, Qinyuan Sun\n",
    "\n"
   ]
  },
  {
   "cell_type": "markdown",
   "metadata": {},
   "source": [
    "## Pipeline\n",
    "We have two tables AOM and WHED with schema as following:\n",
    "- WHED(__a_id__, a_name, a_city, a_prov, a_country, a_web)\n",
    "- AOM(__person_id__, a_name, a_city, a_prov, a_country, a_email_server)\n",
    "\n",
    "The AOM table contains information on affiliation name, city, province/state, country, and email server provided by conference attendants. Consequently, information on the AOM table may be incomplete or inaccurate. For example, conference attendants might provide affiliation name at the school level (e.g. Wisconsin School of Business) instead of at the university level (e.g. University of Wisconsin - Madison)\n",
    "\n",
    "The WHED table contains standard information on name, city, province/state, country, website domain of affliations. Hence, we try to map each individual in AOM to an affiliation in WHED and keep the affliation information in WHED table when merging.\n",
    "\n",
    "After stage 3, we have applied the entity matching to WHED and AOM tables to obtain a list of matching tuples for individuals and affliations in the US only. This is stored in *matched_tuples.csv*. To merge the two tables, we use the information in WHED as the anchor for affiliation. Hence, we keep the columns in WHED and remove all columns related to affiliation in AOM and obtain the table with the following schema:\n",
    "- MergedTable(__person_id__, a_id, a_name, a_city, a_prov, a_country, a_web)\n"
   ]
  },
  {
   "cell_type": "markdown",
   "metadata": {},
   "source": [
    "## Statistics of Merged Table\n"
   ]
  },
  {
   "cell_type": "code",
   "execution_count": 17,
   "metadata": {
    "collapsed": false
   },
   "outputs": [
    {
     "name": "stderr",
     "output_type": "stream",
     "text": [
      "WARNING:py_entitymatching.io.parsers:Metadata file is not present in the given path; proceeding to read the csv file.\n"
     ]
    },
    {
     "name": "stdout",
     "output_type": "stream",
     "text": [
      "Number of tuples: 3230\n",
      "Number of columns: 7\n"
     ]
    }
   ],
   "source": [
    "import py_entitymatching as em\n",
    "MergedTable = em.read_csv_metadata('merged_tuples.csv', key = 'person_id')\n",
    "print(\"Number of tuples:\", MergedTable.shape[0])\n",
    "print(\"Number of columns:\", MergedTable.shape[1])\n"
   ]
  },
  {
   "cell_type": "code",
   "execution_count": 12,
   "metadata": {
    "collapsed": false,
    "scrolled": true
   },
   "outputs": [
    {
     "data": {
      "text/html": [
       "<div>\n",
       "<table border=\"1\" class=\"dataframe\">\n",
       "  <thead>\n",
       "    <tr style=\"text-align: right;\">\n",
       "      <th></th>\n",
       "      <th>a_id</th>\n",
       "      <th>person_id</th>\n",
       "      <th>a_name</th>\n",
       "      <th>a_city</th>\n",
       "      <th>a_prov</th>\n",
       "      <th>a_country</th>\n",
       "      <th>a_web</th>\n",
       "    </tr>\n",
       "  </thead>\n",
       "  <tbody>\n",
       "    <tr>\n",
       "      <th>0</th>\n",
       "      <td>26</td>\n",
       "      <td>6378</td>\n",
       "      <td>abilene christian university</td>\n",
       "      <td>abilene</td>\n",
       "      <td>texas</td>\n",
       "      <td>united states</td>\n",
       "      <td>http://www.acu.edu</td>\n",
       "    </tr>\n",
       "    <tr>\n",
       "      <th>1</th>\n",
       "      <td>26</td>\n",
       "      <td>33444</td>\n",
       "      <td>abilene christian university</td>\n",
       "      <td>abilene</td>\n",
       "      <td>texas</td>\n",
       "      <td>united states</td>\n",
       "      <td>http://www.acu.edu</td>\n",
       "    </tr>\n",
       "    <tr>\n",
       "      <th>2</th>\n",
       "      <td>110</td>\n",
       "      <td>4676</td>\n",
       "      <td>adelphi university</td>\n",
       "      <td>garden city</td>\n",
       "      <td>new york</td>\n",
       "      <td>united states</td>\n",
       "      <td>http://www.adelphi.edu</td>\n",
       "    </tr>\n",
       "    <tr>\n",
       "      <th>3</th>\n",
       "      <td>110</td>\n",
       "      <td>8429</td>\n",
       "      <td>adelphi university</td>\n",
       "      <td>garden city</td>\n",
       "      <td>new york</td>\n",
       "      <td>united states</td>\n",
       "      <td>http://www.adelphi.edu</td>\n",
       "    </tr>\n",
       "  </tbody>\n",
       "</table>\n",
       "</div>"
      ],
      "text/plain": [
       "   a_id  person_id                        a_name       a_city    a_prov  \\\n",
       "0    26       6378  abilene christian university      abilene     texas   \n",
       "1    26      33444  abilene christian university      abilene     texas   \n",
       "2   110       4676            adelphi university  garden city  new york   \n",
       "3   110       8429            adelphi university  garden city  new york   \n",
       "\n",
       "       a_country                   a_web  \n",
       "0  united states      http://www.acu.edu  \n",
       "1  united states      http://www.acu.edu  \n",
       "2  united states  http://www.adelphi.edu  \n",
       "3  united states  http://www.adelphi.edu  "
      ]
     },
     "execution_count": 12,
     "metadata": {},
     "output_type": "execute_result"
    }
   ],
   "source": [
    "MergedTable.head(n = 4)"
   ]
  },
  {
   "cell_type": "markdown",
   "metadata": {},
   "source": [
    "## Code for Merging"
   ]
  },
  {
   "cell_type": "code",
   "execution_count": null,
   "metadata": {
    "collapsed": true
   },
   "outputs": [],
   "source": [
    "\n",
    "import py_entitymatching as em\n",
    "df = em.read_csv_metadata('matched_tuples.csv', key = '_id')\n",
    "# aom = em.read_csv_metadata(path_to_csv_dir + '_aom.csv', key = 'person_id')\n",
    "# whed = em.read_csv_metadata(path_to_csv_dir + '_whed.csv', key = 'a_id')\n",
    "# df.head()\n",
    "\n",
    "#use rename_col() to rename columns\n",
    "#use drop_cols() to drop merged colums\n",
    "# modify df to get the final results\n",
    "drop_list = ['rtable_a_name','rtable_a_city','rtable_a_prov','rtable_a_country','rtable_a_email_server']\n",
    "df = em.drop_cols(df, drop_list)\n",
    "\n",
    "df = em.rename_col(df,'ltable_a_id','a_id')\n",
    "df = em.rename_col(df,'ltable_a_name','a_name')\n",
    "df = em.rename_col(df,'ltable_a_city','a_city')\n",
    "df = em.rename_col(df,'ltable_a_prov','a_prov')\n",
    "df = em.rename_col(df,'ltable_a_country','a_country')\n",
    "df = em.rename_col(df,'ltable_a_web','a_web')\n",
    "df = em.rename_col(df,'rtable_person_id','person_id')\n",
    "\n",
    "\n",
    "# only one tuple in WHED should be matched to one tuple in aom.\n",
    "df_new = df.drop_duplicates(subset=['person_id'], keep = False)\n",
    "em.set_key(df_new,'person_id')\n",
    "df_new = em.drop_cols(df_new,'_id')\n",
    "df_new.head(n = 5)\n",
    "df_new.to_csv('merged_tuples.csv', index=False)"
   ]
  },
  {
   "cell_type": "code",
   "execution_count": null,
   "metadata": {
    "collapsed": true
   },
   "outputs": [],
   "source": []
  }
 ],
 "metadata": {
  "kernelspec": {
   "display_name": "Python 3",
   "language": "python",
   "name": "python3"
  },
  "language_info": {
   "codemirror_mode": {
    "name": "ipython",
    "version": 3
   },
   "file_extension": ".py",
   "mimetype": "text/x-python",
   "name": "python",
   "nbconvert_exporter": "python",
   "pygments_lexer": "ipython3",
   "version": "3.5.3"
  }
 },
 "nbformat": 4,
 "nbformat_minor": 0
}
