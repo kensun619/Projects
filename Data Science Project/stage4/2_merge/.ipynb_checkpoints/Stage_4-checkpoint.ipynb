{
 "cells": [
  {
   "cell_type": "code",
   "execution_count": 2,
   "metadata": {
    "collapsed": false
   },
   "outputs": [
    {
     "name": "stdout",
     "output_type": "stream",
     "text": [
      "magellan version:0.1.0\n"
     ]
    }
   ],
   "source": [
    "import sys\n",
    "import os\n",
    "import py_entitymatching as em\n",
    "print('magellan version:' + em.__version__)\n",
    "import re\n",
    "import csv\n",
    "import pandas as pd\n",
    "\n",
    "from constants import csv_headers"
   ]
  },
  {
   "cell_type": "code",
   "execution_count": 3,
   "metadata": {
    "collapsed": true
   },
   "outputs": [],
   "source": [
    "working_dir = os.path.dirname(os.getcwd())\n",
    "path_to_csv_dir = working_dir + os.sep + 'csv_files'+ os.sep"
   ]
  },
  {
   "cell_type": "markdown",
   "metadata": {},
   "source": [
    "# STEP 2 - MAGELLAN"
   ]
  },
  {
   "cell_type": "markdown",
   "metadata": {},
   "source": [
    "### CHOOSE RANDOM FOREST ###\n",
    "\n",
    "Below are the subsequent steps:\n",
    "* Downsizing data - using whole AOM dataset with y_parameter of 3\n",
    "* Blocking using the previous rule on the downsized dataset\n",
    "* Applying the classifier on the blocked dataset"
   ]
  },
  {
   "cell_type": "code",
   "execution_count": 3,
   "metadata": {
    "collapsed": false
   },
   "outputs": [
    {
     "name": "stderr",
     "output_type": "stream",
     "text": [
      "WARNING:py_entitymatching.io.parsers:Metadata file is not present in the given path; proceeding to read the csv file.\n",
      "WARNING:py_entitymatching.io.parsers:Metadata file is not present in the given path; proceeding to read the csv file.\n",
      "0%                          100%\n",
      "[##############################] | ETA: 00:00:00\n",
      "Total time elapsed: 00:01:18\n"
     ]
    }
   ],
   "source": [
    "AOM = em.read_csv_metadata(path_to_csv_dir + '_aom_cleaned.csv', key = csv_headers.AOM_INDEX)\n",
    "WHED = em.read_csv_metadata(path_to_csv_dir + '_whed_cleaned.csv', key = csv_headers.WHED_INDEX)\n",
    "\n",
    "AOM.shape\n",
    "# building inverted index based on B\n",
    "final_WHED, final_AOM = em.down_sample(WHED, AOM, size=9532, y_param=3)"
   ]
  },
  {
   "cell_type": "code",
   "execution_count": 5,
   "metadata": {
    "collapsed": false
   },
   "outputs": [
    {
     "data": {
      "text/plain": [
       "True"
      ]
     },
     "execution_count": 5,
     "metadata": {},
     "output_type": "execute_result"
    }
   ],
   "source": [
    "em.save_table(final_AOM, path_to_csv_dir + 'AOM_sample1.pkl')\n",
    "em.save_table(final_WHED, path_to_csv_dir + 'WHED_sample1.pkl')\n"
   ]
  },
  {
   "cell_type": "code",
   "execution_count": null,
   "metadata": {
    "collapsed": false
   },
   "outputs": [],
   "source": [
    "final_C = blocker.blocking(final_WHED, final_AOM, csv_headers.WHED, csv_headers.AOM)\n",
    "final_C.head(n=5)"
   ]
  },
  {
   "cell_type": "code",
   "execution_count": 101,
   "metadata": {
    "collapsed": false
   },
   "outputs": [
    {
     "name": "stderr",
     "output_type": "stream",
     "text": [
      "File already exists at /Users/thomasngo/_Personal/_Research/Datasets/AOM/_NotToShare/_src/stage3/csv_files/final_C.pkl; Overwriting it\n",
      "Metadata file already exists at /Users/thomasngo/_Personal/_Research/Datasets/AOM/_NotToShare/_src/stage3/csv_files/final_C.pklmetadata. Overwriting it\n"
     ]
    },
    {
     "data": {
      "text/plain": [
       "True"
      ]
     },
     "execution_count": 101,
     "metadata": {},
     "output_type": "execute_result"
    }
   ],
   "source": [
    "em.save_table(final_C, path_to_csv_dir + 'final_C.pkl')"
   ]
  },
  {
   "cell_type": "markdown",
   "metadata": {},
   "source": [
    "### Load model and classify"
   ]
  },
  {
   "cell_type": "code",
   "execution_count": 16,
   "metadata": {
    "collapsed": false
   },
   "outputs": [
    {
     "name": "stdout",
     "output_type": "stream",
     "text": [
      "(27887, 13)\n"
     ]
    },
    {
     "data": {
      "text/html": [
       "<div>\n",
       "<table border=\"1\" class=\"dataframe\">\n",
       "  <thead>\n",
       "    <tr style=\"text-align: right;\">\n",
       "      <th></th>\n",
       "      <th>_id</th>\n",
       "      <th>ltable_a_id</th>\n",
       "      <th>rtable_person_id</th>\n",
       "      <th>ltable_a_name</th>\n",
       "      <th>ltable_a_city</th>\n",
       "      <th>ltable_a_prov</th>\n",
       "      <th>ltable_a_country</th>\n",
       "      <th>ltable_a_web</th>\n",
       "      <th>rtable_a_name</th>\n",
       "      <th>rtable_a_city</th>\n",
       "      <th>rtable_a_prov</th>\n",
       "      <th>rtable_a_country</th>\n",
       "      <th>rtable_a_email_server</th>\n",
       "    </tr>\n",
       "  </thead>\n",
       "  <tbody>\n",
       "    <tr>\n",
       "      <th>0</th>\n",
       "      <td>0</td>\n",
       "      <td>9</td>\n",
       "      <td>54111</td>\n",
       "      <td>aalborg university</td>\n",
       "      <td>aalborg</td>\n",
       "      <td>NaN</td>\n",
       "      <td>denmark</td>\n",
       "      <td>http://www.aau.dk</td>\n",
       "      <td>aalborg university</td>\n",
       "      <td>branbrand</td>\n",
       "      <td>NaN</td>\n",
       "      <td>denmark</td>\n",
       "      <td>u-k.dk</td>\n",
       "    </tr>\n",
       "    <tr>\n",
       "      <th>1</th>\n",
       "      <td>1</td>\n",
       "      <td>9</td>\n",
       "      <td>54203</td>\n",
       "      <td>aalborg university</td>\n",
       "      <td>aalborg</td>\n",
       "      <td>NaN</td>\n",
       "      <td>denmark</td>\n",
       "      <td>http://www.aau.dk</td>\n",
       "      <td>aalborg university</td>\n",
       "      <td>aalborg</td>\n",
       "      <td>NaN</td>\n",
       "      <td>denmark</td>\n",
       "      <td>hum.aau.dk</td>\n",
       "    </tr>\n",
       "    <tr>\n",
       "      <th>2</th>\n",
       "      <td>2</td>\n",
       "      <td>10</td>\n",
       "      <td>29724</td>\n",
       "      <td>aalto university</td>\n",
       "      <td>espoo</td>\n",
       "      <td>NaN</td>\n",
       "      <td>finland</td>\n",
       "      <td>http://www.aalto.fi/fi/</td>\n",
       "      <td>aalto university</td>\n",
       "      <td>espoo</td>\n",
       "      <td>NaN</td>\n",
       "      <td>finland</td>\n",
       "      <td>aalto.fi</td>\n",
       "    </tr>\n",
       "    <tr>\n",
       "      <th>3</th>\n",
       "      <td>3</td>\n",
       "      <td>10</td>\n",
       "      <td>14261</td>\n",
       "      <td>aalto university</td>\n",
       "      <td>espoo</td>\n",
       "      <td>NaN</td>\n",
       "      <td>finland</td>\n",
       "      <td>http://www.aalto.fi/fi/</td>\n",
       "      <td>aalto university</td>\n",
       "      <td>espoo</td>\n",
       "      <td>NaN</td>\n",
       "      <td>finland</td>\n",
       "      <td>stratnet.org</td>\n",
       "    </tr>\n",
       "    <tr>\n",
       "      <th>4</th>\n",
       "      <td>4</td>\n",
       "      <td>10</td>\n",
       "      <td>43727</td>\n",
       "      <td>aalto university</td>\n",
       "      <td>espoo</td>\n",
       "      <td>NaN</td>\n",
       "      <td>finland</td>\n",
       "      <td>http://www.aalto.fi/fi/</td>\n",
       "      <td>aalto university</td>\n",
       "      <td>helsinki</td>\n",
       "      <td>helsinki</td>\n",
       "      <td>finland</td>\n",
       "      <td>aalto.fi</td>\n",
       "    </tr>\n",
       "  </tbody>\n",
       "</table>\n",
       "</div>"
      ],
      "text/plain": [
       "   _id  ltable_a_id  rtable_person_id       ltable_a_name ltable_a_city  \\\n",
       "0    0            9             54111  aalborg university       aalborg   \n",
       "1    1            9             54203  aalborg university       aalborg   \n",
       "2    2           10             29724    aalto university         espoo   \n",
       "3    3           10             14261    aalto university         espoo   \n",
       "4    4           10             43727    aalto university         espoo   \n",
       "\n",
       "  ltable_a_prov ltable_a_country             ltable_a_web       rtable_a_name  \\\n",
       "0           NaN          denmark        http://www.aau.dk  aalborg university   \n",
       "1           NaN          denmark        http://www.aau.dk  aalborg university   \n",
       "2           NaN          finland  http://www.aalto.fi/fi/    aalto university   \n",
       "3           NaN          finland  http://www.aalto.fi/fi/    aalto university   \n",
       "4           NaN          finland  http://www.aalto.fi/fi/    aalto university   \n",
       "\n",
       "  rtable_a_city rtable_a_prov rtable_a_country rtable_a_email_server  \n",
       "0     branbrand           NaN          denmark                u-k.dk  \n",
       "1       aalborg           NaN          denmark            hum.aau.dk  \n",
       "2         espoo           NaN          finland              aalto.fi  \n",
       "3         espoo           NaN          finland          stratnet.org  \n",
       "4      helsinki      helsinki          finland              aalto.fi  "
      ]
     },
     "execution_count": 16,
     "metadata": {},
     "output_type": "execute_result"
    }
   ],
   "source": [
    "final_C = em.load_table(path_to_csv_dir + 'final_C.pkl', metadata_ext='.pklmetadata')\n",
    "em.set_ltable(final_C, WHED)\n",
    "em.set_rtable(final_C, AOM)\n",
    "em.set_fk_ltable(final_C, 'ltable_' + csv_headers.WHED_INDEX)\n",
    "em.set_fk_rtable(final_C, 'rtable_' + csv_headers.AOM_INDEX)\n",
    "print(final_C.shape)\n",
    "final_C.head()"
   ]
  },
  {
   "cell_type": "code",
   "execution_count": 17,
   "metadata": {
    "collapsed": false
   },
   "outputs": [],
   "source": [
    "F = em.get_features_for_matching(WHED, AOM)\n",
    "em.add_blackbox_feature(F, 'is_same_server', custom_matcher.is_same_server)\n",
    "em.add_blackbox_feature(F, 'is_same_single_server', custom_matcher.is_same_single_server)\n",
    "\n",
    "\n",
    "final_K = em.extract_feature_vecs(final_C, \n",
    "                                feature_table=F, \n",
    "                                show_progress=False)  \n",
    "final_K = em.impute_table(final_K, \n",
    "                exclude_attrs=['_id', 'ltable_' + csv_headers.WHED_INDEX, 'rtable_' + csv_headers.AOM_INDEX],\n",
    "                strategy='mean')"
   ]
  },
  {
   "cell_type": "code",
   "execution_count": 104,
   "metadata": {
    "collapsed": false
   },
   "outputs": [
    {
     "name": "stderr",
     "output_type": "stream",
     "text": [
      "File already exists at /Users/thomasngo/_Personal/_Research/Datasets/AOM/_NotToShare/_src/stage3/csv_files/final_K.pkl; Overwriting it\n",
      "Metadata file already exists at /Users/thomasngo/_Personal/_Research/Datasets/AOM/_NotToShare/_src/stage3/csv_files/final_K.pklmetadata. Overwriting it\n"
     ]
    },
    {
     "data": {
      "text/html": [
       "<div>\n",
       "<table border=\"1\" class=\"dataframe\">\n",
       "  <thead>\n",
       "    <tr style=\"text-align: right;\">\n",
       "      <th></th>\n",
       "      <th>_id</th>\n",
       "      <th>ltable_a_id</th>\n",
       "      <th>rtable_person_id</th>\n",
       "      <th>a_name_a_name_jac_qgm_3_qgm_3</th>\n",
       "      <th>a_name_a_name_cos_dlm_dc0_dlm_dc0</th>\n",
       "      <th>a_name_a_name_jac_dlm_dc0_dlm_dc0</th>\n",
       "      <th>a_name_a_name_mel</th>\n",
       "      <th>a_name_a_name_lev_dist</th>\n",
       "      <th>a_name_a_name_lev_sim</th>\n",
       "      <th>a_name_a_name_nmw</th>\n",
       "      <th>...</th>\n",
       "      <th>a_prov_a_prov_jac_qgm_3_qgm_3</th>\n",
       "      <th>a_prov_a_prov_cos_dlm_dc0_dlm_dc0</th>\n",
       "      <th>a_prov_a_prov_jac_dlm_dc0_dlm_dc0</th>\n",
       "      <th>a_prov_a_prov_mel</th>\n",
       "      <th>a_prov_a_prov_lev_dist</th>\n",
       "      <th>a_prov_a_prov_lev_sim</th>\n",
       "      <th>a_prov_a_prov_nmw</th>\n",
       "      <th>a_prov_a_prov_sw</th>\n",
       "      <th>is_same_server</th>\n",
       "      <th>is_same_single_server</th>\n",
       "    </tr>\n",
       "  </thead>\n",
       "  <tbody>\n",
       "    <tr>\n",
       "      <th>0</th>\n",
       "      <td>0</td>\n",
       "      <td>9</td>\n",
       "      <td>54111</td>\n",
       "      <td>1.0</td>\n",
       "      <td>1.0</td>\n",
       "      <td>1.0</td>\n",
       "      <td>1.0</td>\n",
       "      <td>0.0</td>\n",
       "      <td>1.0</td>\n",
       "      <td>18.0</td>\n",
       "      <td>...</td>\n",
       "      <td>0.893409</td>\n",
       "      <td>0.890104</td>\n",
       "      <td>0.887168</td>\n",
       "      <td>0.956123</td>\n",
       "      <td>1.037413</td>\n",
       "      <td>0.909672</td>\n",
       "      <td>7.301507</td>\n",
       "      <td>8.041462</td>\n",
       "      <td>0.0</td>\n",
       "      <td>0.0</td>\n",
       "    </tr>\n",
       "    <tr>\n",
       "      <th>1</th>\n",
       "      <td>1</td>\n",
       "      <td>9</td>\n",
       "      <td>54203</td>\n",
       "      <td>1.0</td>\n",
       "      <td>1.0</td>\n",
       "      <td>1.0</td>\n",
       "      <td>1.0</td>\n",
       "      <td>0.0</td>\n",
       "      <td>1.0</td>\n",
       "      <td>18.0</td>\n",
       "      <td>...</td>\n",
       "      <td>0.893409</td>\n",
       "      <td>0.890104</td>\n",
       "      <td>0.887168</td>\n",
       "      <td>0.956123</td>\n",
       "      <td>1.037413</td>\n",
       "      <td>0.909672</td>\n",
       "      <td>7.301507</td>\n",
       "      <td>8.041462</td>\n",
       "      <td>0.0</td>\n",
       "      <td>1.0</td>\n",
       "    </tr>\n",
       "    <tr>\n",
       "      <th>2</th>\n",
       "      <td>2</td>\n",
       "      <td>10</td>\n",
       "      <td>29724</td>\n",
       "      <td>1.0</td>\n",
       "      <td>1.0</td>\n",
       "      <td>1.0</td>\n",
       "      <td>1.0</td>\n",
       "      <td>0.0</td>\n",
       "      <td>1.0</td>\n",
       "      <td>16.0</td>\n",
       "      <td>...</td>\n",
       "      <td>0.893409</td>\n",
       "      <td>0.890104</td>\n",
       "      <td>0.887168</td>\n",
       "      <td>0.956123</td>\n",
       "      <td>1.037413</td>\n",
       "      <td>0.909672</td>\n",
       "      <td>7.301507</td>\n",
       "      <td>8.041462</td>\n",
       "      <td>1.0</td>\n",
       "      <td>1.0</td>\n",
       "    </tr>\n",
       "    <tr>\n",
       "      <th>3</th>\n",
       "      <td>3</td>\n",
       "      <td>10</td>\n",
       "      <td>14261</td>\n",
       "      <td>1.0</td>\n",
       "      <td>1.0</td>\n",
       "      <td>1.0</td>\n",
       "      <td>1.0</td>\n",
       "      <td>0.0</td>\n",
       "      <td>1.0</td>\n",
       "      <td>16.0</td>\n",
       "      <td>...</td>\n",
       "      <td>0.893409</td>\n",
       "      <td>0.890104</td>\n",
       "      <td>0.887168</td>\n",
       "      <td>0.956123</td>\n",
       "      <td>1.037413</td>\n",
       "      <td>0.909672</td>\n",
       "      <td>7.301507</td>\n",
       "      <td>8.041462</td>\n",
       "      <td>0.0</td>\n",
       "      <td>0.0</td>\n",
       "    </tr>\n",
       "    <tr>\n",
       "      <th>4</th>\n",
       "      <td>4</td>\n",
       "      <td>10</td>\n",
       "      <td>43727</td>\n",
       "      <td>1.0</td>\n",
       "      <td>1.0</td>\n",
       "      <td>1.0</td>\n",
       "      <td>1.0</td>\n",
       "      <td>0.0</td>\n",
       "      <td>1.0</td>\n",
       "      <td>16.0</td>\n",
       "      <td>...</td>\n",
       "      <td>0.893409</td>\n",
       "      <td>0.890104</td>\n",
       "      <td>0.887168</td>\n",
       "      <td>0.956123</td>\n",
       "      <td>1.037413</td>\n",
       "      <td>0.909672</td>\n",
       "      <td>7.301507</td>\n",
       "      <td>8.041462</td>\n",
       "      <td>1.0</td>\n",
       "      <td>1.0</td>\n",
       "    </tr>\n",
       "  </tbody>\n",
       "</table>\n",
       "<p>5 rows × 37 columns</p>\n",
       "</div>"
      ],
      "text/plain": [
       "   _id  ltable_a_id  rtable_person_id  a_name_a_name_jac_qgm_3_qgm_3  \\\n",
       "0    0            9             54111                            1.0   \n",
       "1    1            9             54203                            1.0   \n",
       "2    2           10             29724                            1.0   \n",
       "3    3           10             14261                            1.0   \n",
       "4    4           10             43727                            1.0   \n",
       "\n",
       "   a_name_a_name_cos_dlm_dc0_dlm_dc0  a_name_a_name_jac_dlm_dc0_dlm_dc0  \\\n",
       "0                                1.0                                1.0   \n",
       "1                                1.0                                1.0   \n",
       "2                                1.0                                1.0   \n",
       "3                                1.0                                1.0   \n",
       "4                                1.0                                1.0   \n",
       "\n",
       "   a_name_a_name_mel  a_name_a_name_lev_dist  a_name_a_name_lev_sim  \\\n",
       "0                1.0                     0.0                    1.0   \n",
       "1                1.0                     0.0                    1.0   \n",
       "2                1.0                     0.0                    1.0   \n",
       "3                1.0                     0.0                    1.0   \n",
       "4                1.0                     0.0                    1.0   \n",
       "\n",
       "   a_name_a_name_nmw          ...            a_prov_a_prov_jac_qgm_3_qgm_3  \\\n",
       "0               18.0          ...                                 0.893409   \n",
       "1               18.0          ...                                 0.893409   \n",
       "2               16.0          ...                                 0.893409   \n",
       "3               16.0          ...                                 0.893409   \n",
       "4               16.0          ...                                 0.893409   \n",
       "\n",
       "   a_prov_a_prov_cos_dlm_dc0_dlm_dc0  a_prov_a_prov_jac_dlm_dc0_dlm_dc0  \\\n",
       "0                           0.890104                           0.887168   \n",
       "1                           0.890104                           0.887168   \n",
       "2                           0.890104                           0.887168   \n",
       "3                           0.890104                           0.887168   \n",
       "4                           0.890104                           0.887168   \n",
       "\n",
       "   a_prov_a_prov_mel  a_prov_a_prov_lev_dist  a_prov_a_prov_lev_sim  \\\n",
       "0           0.956123                1.037413               0.909672   \n",
       "1           0.956123                1.037413               0.909672   \n",
       "2           0.956123                1.037413               0.909672   \n",
       "3           0.956123                1.037413               0.909672   \n",
       "4           0.956123                1.037413               0.909672   \n",
       "\n",
       "   a_prov_a_prov_nmw  a_prov_a_prov_sw  is_same_server  is_same_single_server  \n",
       "0           7.301507          8.041462             0.0                    0.0  \n",
       "1           7.301507          8.041462             0.0                    1.0  \n",
       "2           7.301507          8.041462             1.0                    1.0  \n",
       "3           7.301507          8.041462             0.0                    0.0  \n",
       "4           7.301507          8.041462             1.0                    1.0  \n",
       "\n",
       "[5 rows x 37 columns]"
      ]
     },
     "execution_count": 104,
     "metadata": {},
     "output_type": "execute_result"
    }
   ],
   "source": [
    "em.save_table(final_K, path_to_csv_dir + 'final_K.pkl')\n",
    "final_K.head()"
   ]
  },
  {
   "cell_type": "code",
   "execution_count": 18,
   "metadata": {
    "collapsed": false
   },
   "outputs": [
    {
     "data": {
      "text/plain": [
       "(27887, 37)"
      ]
     },
     "execution_count": 18,
     "metadata": {},
     "output_type": "execute_result"
    }
   ],
   "source": [
    "# We have 37 features\n",
    "final_K.shape  "
   ]
  },
  {
   "cell_type": "code",
   "execution_count": 19,
   "metadata": {
    "collapsed": false
   },
   "outputs": [],
   "source": [
    "rf = em.load_object('./rf_classifier.pkl')\n",
    "predictions = rf.predict(table=final_K, exclude_attrs=['_id', 'ltable_' + csv_headers.WHED_INDEX, 'rtable_' + csv_headers.AOM_INDEX],\n",
    "                append=True, target_attr='predicted', inplace=False)"
   ]
  },
  {
   "cell_type": "code",
   "execution_count": 20,
   "metadata": {
    "collapsed": false
   },
   "outputs": [],
   "source": [
    "matched = predictions[predictions['predicted'] == 1]\n",
    "matched.shape\n",
    "matched_id = matched['_id']\n",
    "df = final_C.loc[final_C['_id'].isin(matched_id)]\n",
    "df.to_csv('matched_tuples.csv', index=False)\n"
   ]
  },
  {
   "cell_type": "markdown",
   "metadata": {
    "collapsed": true
   },
   "source": [
    "## Merge two tables"
   ]
  },
  {
   "cell_type": "code",
   "execution_count": 35,
   "metadata": {
    "collapsed": false
   },
   "outputs": [
    {
     "name": "stderr",
     "output_type": "stream",
     "text": [
      "WARNING:py_entitymatching.io.parsers:Metadata file is not present in the given path; proceeding to read the csv file.\n"
     ]
    },
    {
     "data": {
      "text/html": [
       "<div>\n",
       "<table border=\"1\" class=\"dataframe\">\n",
       "  <thead>\n",
       "    <tr style=\"text-align: right;\">\n",
       "      <th></th>\n",
       "      <th>_id</th>\n",
       "      <th>ltable_a_id</th>\n",
       "      <th>rtable_person_id</th>\n",
       "      <th>ltable_a_name</th>\n",
       "      <th>ltable_a_city</th>\n",
       "      <th>ltable_a_prov</th>\n",
       "      <th>ltable_a_country</th>\n",
       "      <th>ltable_a_web</th>\n",
       "      <th>rtable_a_name</th>\n",
       "      <th>rtable_a_city</th>\n",
       "      <th>rtable_a_prov</th>\n",
       "      <th>rtable_a_country</th>\n",
       "      <th>rtable_a_email_server</th>\n",
       "    </tr>\n",
       "  </thead>\n",
       "  <tbody>\n",
       "    <tr>\n",
       "      <th>0</th>\n",
       "      <td>0</td>\n",
       "      <td>9</td>\n",
       "      <td>54111</td>\n",
       "      <td>aalborg university</td>\n",
       "      <td>aalborg</td>\n",
       "      <td>NaN</td>\n",
       "      <td>denmark</td>\n",
       "      <td>http://www.aau.dk</td>\n",
       "      <td>aalborg university</td>\n",
       "      <td>branbrand</td>\n",
       "      <td>NaN</td>\n",
       "      <td>denmark</td>\n",
       "      <td>u-k.dk</td>\n",
       "    </tr>\n",
       "    <tr>\n",
       "      <th>1</th>\n",
       "      <td>1</td>\n",
       "      <td>9</td>\n",
       "      <td>54203</td>\n",
       "      <td>aalborg university</td>\n",
       "      <td>aalborg</td>\n",
       "      <td>NaN</td>\n",
       "      <td>denmark</td>\n",
       "      <td>http://www.aau.dk</td>\n",
       "      <td>aalborg university</td>\n",
       "      <td>aalborg</td>\n",
       "      <td>NaN</td>\n",
       "      <td>denmark</td>\n",
       "      <td>hum.aau.dk</td>\n",
       "    </tr>\n",
       "    <tr>\n",
       "      <th>2</th>\n",
       "      <td>2</td>\n",
       "      <td>10</td>\n",
       "      <td>29724</td>\n",
       "      <td>aalto university</td>\n",
       "      <td>espoo</td>\n",
       "      <td>NaN</td>\n",
       "      <td>finland</td>\n",
       "      <td>http://www.aalto.fi/fi/</td>\n",
       "      <td>aalto university</td>\n",
       "      <td>espoo</td>\n",
       "      <td>NaN</td>\n",
       "      <td>finland</td>\n",
       "      <td>aalto.fi</td>\n",
       "    </tr>\n",
       "    <tr>\n",
       "      <th>3</th>\n",
       "      <td>3</td>\n",
       "      <td>10</td>\n",
       "      <td>14261</td>\n",
       "      <td>aalto university</td>\n",
       "      <td>espoo</td>\n",
       "      <td>NaN</td>\n",
       "      <td>finland</td>\n",
       "      <td>http://www.aalto.fi/fi/</td>\n",
       "      <td>aalto university</td>\n",
       "      <td>espoo</td>\n",
       "      <td>NaN</td>\n",
       "      <td>finland</td>\n",
       "      <td>stratnet.org</td>\n",
       "    </tr>\n",
       "    <tr>\n",
       "      <th>4</th>\n",
       "      <td>4</td>\n",
       "      <td>10</td>\n",
       "      <td>43727</td>\n",
       "      <td>aalto university</td>\n",
       "      <td>espoo</td>\n",
       "      <td>NaN</td>\n",
       "      <td>finland</td>\n",
       "      <td>http://www.aalto.fi/fi/</td>\n",
       "      <td>aalto university</td>\n",
       "      <td>helsinki</td>\n",
       "      <td>helsinki</td>\n",
       "      <td>finland</td>\n",
       "      <td>aalto.fi</td>\n",
       "    </tr>\n",
       "  </tbody>\n",
       "</table>\n",
       "</div>"
      ],
      "text/plain": [
       "   _id  ltable_a_id  rtable_person_id       ltable_a_name ltable_a_city  \\\n",
       "0    0            9             54111  aalborg university       aalborg   \n",
       "1    1            9             54203  aalborg university       aalborg   \n",
       "2    2           10             29724    aalto university         espoo   \n",
       "3    3           10             14261    aalto university         espoo   \n",
       "4    4           10             43727    aalto university         espoo   \n",
       "\n",
       "  ltable_a_prov ltable_a_country             ltable_a_web       rtable_a_name  \\\n",
       "0           NaN          denmark        http://www.aau.dk  aalborg university   \n",
       "1           NaN          denmark        http://www.aau.dk  aalborg university   \n",
       "2           NaN          finland  http://www.aalto.fi/fi/    aalto university   \n",
       "3           NaN          finland  http://www.aalto.fi/fi/    aalto university   \n",
       "4           NaN          finland  http://www.aalto.fi/fi/    aalto university   \n",
       "\n",
       "  rtable_a_city rtable_a_prov rtable_a_country rtable_a_email_server  \n",
       "0     branbrand           NaN          denmark                u-k.dk  \n",
       "1       aalborg           NaN          denmark            hum.aau.dk  \n",
       "2         espoo           NaN          finland              aalto.fi  \n",
       "3         espoo           NaN          finland          stratnet.org  \n",
       "4      helsinki      helsinki          finland              aalto.fi  "
      ]
     },
     "execution_count": 35,
     "metadata": {},
     "output_type": "execute_result"
    }
   ],
   "source": [
    "df = em.read_csv_metadata(path_to_csv_dir + 'matched_tuples.csv', key = '_id')\n",
    "# aom = em.read_csv_metadata(path_to_csv_dir + '_aom.csv', key = 'person_id')\n",
    "# whed = em.read_csv_metadata(path_to_csv_dir + '_whed.csv', key = 'a_id')\n",
    "df.head()"
   ]
  },
  {
   "cell_type": "code",
   "execution_count": 36,
   "metadata": {
    "collapsed": false
   },
   "outputs": [],
   "source": [
    "#use rename_col() to rename columns\n",
    "#use drop_cols() to drop merged colums\n",
    "# modify df to get the final results\n",
    "drop_list = ['rtable_a_name','rtable_a_city','rtable_a_prov','rtable_a_country','rtable_a_email_server']\n",
    "df = em.drop_cols(df, drop_list)\n",
    "\n",
    "df = em.rename_col(df,'ltable_a_id','a_id')\n",
    "df = em.rename_col(df,'ltable_a_name','a_name')\n",
    "df = em.rename_col(df,'ltable_a_city','a_city')\n",
    "df = em.rename_col(df,'ltable_a_prov','a_prov')\n",
    "df = em.rename_col(df,'ltable_a_country','a_country')\n",
    "df = em.rename_col(df,'ltable_a_web','a_web')\n",
    "df = em.rename_col(df,'rtable_person_id','person_id')\n"
   ]
  },
  {
   "cell_type": "code",
   "execution_count": 37,
   "metadata": {
    "collapsed": false
   },
   "outputs": [
    {
     "data": {
      "text/html": [
       "<div>\n",
       "<table border=\"1\" class=\"dataframe\">\n",
       "  <thead>\n",
       "    <tr style=\"text-align: right;\">\n",
       "      <th></th>\n",
       "      <th>_id</th>\n",
       "      <th>a_id</th>\n",
       "      <th>person_id</th>\n",
       "      <th>a_name</th>\n",
       "      <th>a_city</th>\n",
       "      <th>a_prov</th>\n",
       "      <th>a_country</th>\n",
       "      <th>a_web</th>\n",
       "    </tr>\n",
       "  </thead>\n",
       "  <tbody>\n",
       "    <tr>\n",
       "      <th>0</th>\n",
       "      <td>0</td>\n",
       "      <td>9</td>\n",
       "      <td>54111</td>\n",
       "      <td>aalborg university</td>\n",
       "      <td>aalborg</td>\n",
       "      <td>NaN</td>\n",
       "      <td>denmark</td>\n",
       "      <td>http://www.aau.dk</td>\n",
       "    </tr>\n",
       "    <tr>\n",
       "      <th>1</th>\n",
       "      <td>1</td>\n",
       "      <td>9</td>\n",
       "      <td>54203</td>\n",
       "      <td>aalborg university</td>\n",
       "      <td>aalborg</td>\n",
       "      <td>NaN</td>\n",
       "      <td>denmark</td>\n",
       "      <td>http://www.aau.dk</td>\n",
       "    </tr>\n",
       "    <tr>\n",
       "      <th>2</th>\n",
       "      <td>2</td>\n",
       "      <td>10</td>\n",
       "      <td>29724</td>\n",
       "      <td>aalto university</td>\n",
       "      <td>espoo</td>\n",
       "      <td>NaN</td>\n",
       "      <td>finland</td>\n",
       "      <td>http://www.aalto.fi/fi/</td>\n",
       "    </tr>\n",
       "    <tr>\n",
       "      <th>3</th>\n",
       "      <td>3</td>\n",
       "      <td>10</td>\n",
       "      <td>14261</td>\n",
       "      <td>aalto university</td>\n",
       "      <td>espoo</td>\n",
       "      <td>NaN</td>\n",
       "      <td>finland</td>\n",
       "      <td>http://www.aalto.fi/fi/</td>\n",
       "    </tr>\n",
       "    <tr>\n",
       "      <th>4</th>\n",
       "      <td>4</td>\n",
       "      <td>10</td>\n",
       "      <td>43727</td>\n",
       "      <td>aalto university</td>\n",
       "      <td>espoo</td>\n",
       "      <td>NaN</td>\n",
       "      <td>finland</td>\n",
       "      <td>http://www.aalto.fi/fi/</td>\n",
       "    </tr>\n",
       "  </tbody>\n",
       "</table>\n",
       "</div>"
      ],
      "text/plain": [
       "   _id  a_id  person_id              a_name   a_city a_prov a_country  \\\n",
       "0    0     9      54111  aalborg university  aalborg    NaN   denmark   \n",
       "1    1     9      54203  aalborg university  aalborg    NaN   denmark   \n",
       "2    2    10      29724    aalto university    espoo    NaN   finland   \n",
       "3    3    10      14261    aalto university    espoo    NaN   finland   \n",
       "4    4    10      43727    aalto university    espoo    NaN   finland   \n",
       "\n",
       "                     a_web  \n",
       "0        http://www.aau.dk  \n",
       "1        http://www.aau.dk  \n",
       "2  http://www.aalto.fi/fi/  \n",
       "3  http://www.aalto.fi/fi/  \n",
       "4  http://www.aalto.fi/fi/  "
      ]
     },
     "execution_count": 37,
     "metadata": {},
     "output_type": "execute_result"
    }
   ],
   "source": [
    "df.head()"
   ]
  },
  {
   "cell_type": "code",
   "execution_count": 38,
   "metadata": {
    "collapsed": true
   },
   "outputs": [],
   "source": [
    "df_new = df.drop_duplicates(subset=['person_id'], keep = False)\n",
    "em.set_key(df_new,'person_id')\n",
    "df_new = em.drop_cols(df_new,'_id')"
   ]
  },
  {
   "cell_type": "code",
   "execution_count": 40,
   "metadata": {
    "collapsed": false
   },
   "outputs": [],
   "source": [
    "df_new.shape\n",
    "df_new.head()\n",
    "df_new.to_csv('merged_tuples.csv', index=False)"
   ]
  },
  {
   "cell_type": "code",
   "execution_count": null,
   "metadata": {
    "collapsed": true
   },
   "outputs": [],
   "source": []
  }
 ],
 "metadata": {
  "kernelspec": {
   "display_name": "Python 3",
   "language": "python",
   "name": "python3"
  },
  "language_info": {
   "codemirror_mode": {
    "name": "ipython",
    "version": 3
   },
   "file_extension": ".py",
   "mimetype": "text/x-python",
   "name": "python",
   "nbconvert_exporter": "python",
   "pygments_lexer": "ipython3",
   "version": "3.5.3"
  }
 },
 "nbformat": 4,
 "nbformat_minor": 2
}
