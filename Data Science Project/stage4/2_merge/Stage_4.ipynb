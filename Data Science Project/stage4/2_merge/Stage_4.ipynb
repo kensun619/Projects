{
 "cells": [
  {
   "cell_type": "markdown",
   "metadata": {
    "collapsed": true
   },
   "source": [
    "## Merge two tables"
   ]
  },
  {
   "cell_type": "code",
   "execution_count": 10,
   "metadata": {
    "collapsed": false
   },
   "outputs": [
    {
     "name": "stderr",
     "output_type": "stream",
     "text": [
      "WARNING:py_entitymatching.io.parsers:Metadata file is not present in the given path; proceeding to read the csv file.\n"
     ]
    },
    {
     "data": {
      "text/html": [
       "<div>\n",
       "<table border=\"1\" class=\"dataframe\">\n",
       "  <thead>\n",
       "    <tr style=\"text-align: right;\">\n",
       "      <th></th>\n",
       "      <th>_id</th>\n",
       "      <th>ltable_a_id</th>\n",
       "      <th>rtable_person_id</th>\n",
       "      <th>ltable_a_name</th>\n",
       "      <th>ltable_a_city</th>\n",
       "      <th>ltable_a_prov</th>\n",
       "      <th>ltable_a_country</th>\n",
       "      <th>ltable_a_web</th>\n",
       "      <th>rtable_a_name</th>\n",
       "      <th>rtable_a_city</th>\n",
       "      <th>rtable_a_prov</th>\n",
       "      <th>rtable_a_country</th>\n",
       "      <th>rtable_a_email_server</th>\n",
       "    </tr>\n",
       "  </thead>\n",
       "  <tbody>\n",
       "    <tr>\n",
       "      <th>0</th>\n",
       "      <td>70</td>\n",
       "      <td>26</td>\n",
       "      <td>6378</td>\n",
       "      <td>abilene christian university</td>\n",
       "      <td>abilene</td>\n",
       "      <td>texas</td>\n",
       "      <td>united states</td>\n",
       "      <td>http://www.acu.edu</td>\n",
       "      <td>abilene christian university</td>\n",
       "      <td>abilene</td>\n",
       "      <td>texas</td>\n",
       "      <td>united states</td>\n",
       "      <td>acu.edu</td>\n",
       "    </tr>\n",
       "    <tr>\n",
       "      <th>1</th>\n",
       "      <td>71</td>\n",
       "      <td>26</td>\n",
       "      <td>33444</td>\n",
       "      <td>abilene christian university</td>\n",
       "      <td>abilene</td>\n",
       "      <td>texas</td>\n",
       "      <td>united states</td>\n",
       "      <td>http://www.acu.edu</td>\n",
       "      <td>abilene christian university</td>\n",
       "      <td>abilene</td>\n",
       "      <td>texas</td>\n",
       "      <td>united states</td>\n",
       "      <td>coba.acu.edu</td>\n",
       "    </tr>\n",
       "    <tr>\n",
       "      <th>2</th>\n",
       "      <td>84</td>\n",
       "      <td>110</td>\n",
       "      <td>4676</td>\n",
       "      <td>adelphi university</td>\n",
       "      <td>garden city</td>\n",
       "      <td>new york</td>\n",
       "      <td>united states</td>\n",
       "      <td>http://www.adelphi.edu</td>\n",
       "      <td>adelphi university</td>\n",
       "      <td>garden city</td>\n",
       "      <td>new york</td>\n",
       "      <td>united states</td>\n",
       "      <td>adelphi.edu</td>\n",
       "    </tr>\n",
       "    <tr>\n",
       "      <th>3</th>\n",
       "      <td>85</td>\n",
       "      <td>110</td>\n",
       "      <td>8429</td>\n",
       "      <td>adelphi university</td>\n",
       "      <td>garden city</td>\n",
       "      <td>new york</td>\n",
       "      <td>united states</td>\n",
       "      <td>http://www.adelphi.edu</td>\n",
       "      <td>adelphi university</td>\n",
       "      <td>forest hills</td>\n",
       "      <td>new york</td>\n",
       "      <td>united states</td>\n",
       "      <td>adelphi.edu</td>\n",
       "    </tr>\n",
       "    <tr>\n",
       "      <th>4</th>\n",
       "      <td>86</td>\n",
       "      <td>116</td>\n",
       "      <td>56267</td>\n",
       "      <td>adler school professional psychology</td>\n",
       "      <td>chicago</td>\n",
       "      <td>illinois</td>\n",
       "      <td>united states</td>\n",
       "      <td>http://www.adler.edu</td>\n",
       "      <td>chicago school professional psychology</td>\n",
       "      <td>chicago</td>\n",
       "      <td>illinois</td>\n",
       "      <td>united states</td>\n",
       "      <td>ego.thechicagoschool.edu</td>\n",
       "    </tr>\n",
       "  </tbody>\n",
       "</table>\n",
       "</div>"
      ],
      "text/plain": [
       "   _id  ltable_a_id  rtable_person_id                         ltable_a_name  \\\n",
       "0   70           26              6378          abilene christian university   \n",
       "1   71           26             33444          abilene christian university   \n",
       "2   84          110              4676                    adelphi university   \n",
       "3   85          110              8429                    adelphi university   \n",
       "4   86          116             56267  adler school professional psychology   \n",
       "\n",
       "  ltable_a_city ltable_a_prov ltable_a_country            ltable_a_web  \\\n",
       "0       abilene         texas    united states      http://www.acu.edu   \n",
       "1       abilene         texas    united states      http://www.acu.edu   \n",
       "2   garden city      new york    united states  http://www.adelphi.edu   \n",
       "3   garden city      new york    united states  http://www.adelphi.edu   \n",
       "4       chicago      illinois    united states    http://www.adler.edu   \n",
       "\n",
       "                            rtable_a_name rtable_a_city rtable_a_prov  \\\n",
       "0            abilene christian university       abilene         texas   \n",
       "1            abilene christian university       abilene         texas   \n",
       "2                      adelphi university   garden city      new york   \n",
       "3                      adelphi university  forest hills      new york   \n",
       "4  chicago school professional psychology       chicago      illinois   \n",
       "\n",
       "  rtable_a_country     rtable_a_email_server  \n",
       "0    united states                   acu.edu  \n",
       "1    united states              coba.acu.edu  \n",
       "2    united states               adelphi.edu  \n",
       "3    united states               adelphi.edu  \n",
       "4    united states  ego.thechicagoschool.edu  "
      ]
     },
     "execution_count": 10,
     "metadata": {},
     "output_type": "execute_result"
    }
   ],
   "source": [
    "import sys\n",
    "import os\n",
    "import py_entitymatching as em\n",
    "working_dir = os.path.dirname(os.getcwd())\n",
    "path_to_csv_dir = working_dir + os.sep + 'csv_files'+ os.sep\n",
    "\n",
    "df = em.read_csv_metadata(path_to_csv_dir + 'matched_tuples.csv', key = '_id')\n",
    "# aom = em.read_csv_metadata(path_to_csv_dir + '_aom.csv', key = 'person_id')\n",
    "# whed = em.read_csv_metadata(path_to_csv_dir + '_whed.csv', key = 'a_id')\n",
    "df.head()"
   ]
  },
  {
   "cell_type": "code",
   "execution_count": 11,
   "metadata": {
    "collapsed": false
   },
   "outputs": [],
   "source": [
    "#use rename_col() to rename columns\n",
    "#use drop_cols() to drop merged colums\n",
    "# modify df to get the final results\n",
    "drop_list = ['rtable_a_name','rtable_a_city','rtable_a_prov','rtable_a_country','rtable_a_email_server']\n",
    "df = em.drop_cols(df, drop_list)\n",
    "\n",
    "df = em.rename_col(df,'ltable_a_id','a_id')\n",
    "df = em.rename_col(df,'ltable_a_name','a_name')\n",
    "df = em.rename_col(df,'ltable_a_city','a_city')\n",
    "df = em.rename_col(df,'ltable_a_prov','a_prov')\n",
    "df = em.rename_col(df,'ltable_a_country','a_country')\n",
    "df = em.rename_col(df,'ltable_a_web','a_web')\n",
    "df = em.rename_col(df,'rtable_person_id','person_id')\n"
   ]
  },
  {
   "cell_type": "code",
   "execution_count": 12,
   "metadata": {
    "collapsed": false
   },
   "outputs": [
    {
     "data": {
      "text/html": [
       "<div>\n",
       "<table border=\"1\" class=\"dataframe\">\n",
       "  <thead>\n",
       "    <tr style=\"text-align: right;\">\n",
       "      <th></th>\n",
       "      <th>_id</th>\n",
       "      <th>a_id</th>\n",
       "      <th>person_id</th>\n",
       "      <th>a_name</th>\n",
       "      <th>a_city</th>\n",
       "      <th>a_prov</th>\n",
       "      <th>a_country</th>\n",
       "      <th>a_web</th>\n",
       "    </tr>\n",
       "  </thead>\n",
       "  <tbody>\n",
       "    <tr>\n",
       "      <th>0</th>\n",
       "      <td>70</td>\n",
       "      <td>26</td>\n",
       "      <td>6378</td>\n",
       "      <td>abilene christian university</td>\n",
       "      <td>abilene</td>\n",
       "      <td>texas</td>\n",
       "      <td>united states</td>\n",
       "      <td>http://www.acu.edu</td>\n",
       "    </tr>\n",
       "    <tr>\n",
       "      <th>1</th>\n",
       "      <td>71</td>\n",
       "      <td>26</td>\n",
       "      <td>33444</td>\n",
       "      <td>abilene christian university</td>\n",
       "      <td>abilene</td>\n",
       "      <td>texas</td>\n",
       "      <td>united states</td>\n",
       "      <td>http://www.acu.edu</td>\n",
       "    </tr>\n",
       "    <tr>\n",
       "      <th>2</th>\n",
       "      <td>84</td>\n",
       "      <td>110</td>\n",
       "      <td>4676</td>\n",
       "      <td>adelphi university</td>\n",
       "      <td>garden city</td>\n",
       "      <td>new york</td>\n",
       "      <td>united states</td>\n",
       "      <td>http://www.adelphi.edu</td>\n",
       "    </tr>\n",
       "    <tr>\n",
       "      <th>3</th>\n",
       "      <td>85</td>\n",
       "      <td>110</td>\n",
       "      <td>8429</td>\n",
       "      <td>adelphi university</td>\n",
       "      <td>garden city</td>\n",
       "      <td>new york</td>\n",
       "      <td>united states</td>\n",
       "      <td>http://www.adelphi.edu</td>\n",
       "    </tr>\n",
       "    <tr>\n",
       "      <th>4</th>\n",
       "      <td>86</td>\n",
       "      <td>116</td>\n",
       "      <td>56267</td>\n",
       "      <td>adler school professional psychology</td>\n",
       "      <td>chicago</td>\n",
       "      <td>illinois</td>\n",
       "      <td>united states</td>\n",
       "      <td>http://www.adler.edu</td>\n",
       "    </tr>\n",
       "  </tbody>\n",
       "</table>\n",
       "</div>"
      ],
      "text/plain": [
       "   _id  a_id  person_id                                a_name       a_city  \\\n",
       "0   70    26       6378          abilene christian university      abilene   \n",
       "1   71    26      33444          abilene christian university      abilene   \n",
       "2   84   110       4676                    adelphi university  garden city   \n",
       "3   85   110       8429                    adelphi university  garden city   \n",
       "4   86   116      56267  adler school professional psychology      chicago   \n",
       "\n",
       "     a_prov      a_country                   a_web  \n",
       "0     texas  united states      http://www.acu.edu  \n",
       "1     texas  united states      http://www.acu.edu  \n",
       "2  new york  united states  http://www.adelphi.edu  \n",
       "3  new york  united states  http://www.adelphi.edu  \n",
       "4  illinois  united states    http://www.adler.edu  "
      ]
     },
     "execution_count": 12,
     "metadata": {},
     "output_type": "execute_result"
    }
   ],
   "source": [
    "df.head()"
   ]
  },
  {
   "cell_type": "code",
   "execution_count": 13,
   "metadata": {
    "collapsed": true
   },
   "outputs": [],
   "source": [
    "df_new = df.drop_duplicates(subset=['person_id'], keep = False)\n",
    "em.set_key(df_new,'person_id')\n",
    "df_new = em.drop_cols(df_new,'_id')"
   ]
  },
  {
   "cell_type": "code",
   "execution_count": 15,
   "metadata": {
    "collapsed": false
   },
   "outputs": [],
   "source": [
    "df_new.shape\n",
    "df_new.head()\n",
    "df_new.to_csv(path_to_csv_dir + 'merged_tuples.csv', index=False)"
   ]
  },
  {
   "cell_type": "code",
   "execution_count": 16,
   "metadata": {
    "collapsed": false
   },
   "outputs": [
    {
     "data": {
      "text/plain": [
       "(3230, 7)"
      ]
     },
     "execution_count": 16,
     "metadata": {},
     "output_type": "execute_result"
    }
   ],
   "source": [
    "df_new.shape"
   ]
  },
  {
   "cell_type": "code",
   "execution_count": null,
   "metadata": {
    "collapsed": true
   },
   "outputs": [],
   "source": []
  }
 ],
 "metadata": {
  "kernelspec": {
   "display_name": "Python 3",
   "language": "python",
   "name": "python3"
  },
  "language_info": {
   "codemirror_mode": {
    "name": "ipython",
    "version": 3
   },
   "file_extension": ".py",
   "mimetype": "text/x-python",
   "name": "python",
   "nbconvert_exporter": "python",
   "pygments_lexer": "ipython3",
   "version": "3.5.3"
  }
 },
 "nbformat": 4,
 "nbformat_minor": 2
}
