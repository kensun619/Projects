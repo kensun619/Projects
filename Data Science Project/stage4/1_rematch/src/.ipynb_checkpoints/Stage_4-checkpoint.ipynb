{
 "cells": [
  {
   "cell_type": "code",
   "execution_count": 4,
   "metadata": {
    "collapsed": false
   },
   "outputs": [
    {
     "name": "stdout",
     "output_type": "stream",
     "text": [
      "magellan version:0.1.0\n"
     ]
    }
   ],
   "source": [
    "import sys\n",
    "import os\n",
    "import py_entitymatching as em\n",
    "print('magellan version:' + em.__version__)\n",
    "import re\n",
    "import csv\n",
    "import pandas as pd\n",
    "\n",
    "from constants import csv_headers\n",
    "import blocker, custom_matcher"
   ]
  },
  {
   "cell_type": "code",
   "execution_count": 5,
   "metadata": {
    "collapsed": true
   },
   "outputs": [],
   "source": [
    "working_dir = os.path.dirname(os.getcwd())\n",
    "path_to_csv_dir = working_dir + os.sep + 'csv_files'+ os.sep"
   ]
  },
  {
   "cell_type": "markdown",
   "metadata": {},
   "source": [
    "# STEP 2 - MAGELLAN"
   ]
  },
  {
   "cell_type": "markdown",
   "metadata": {},
   "source": [
    "### CHOOSE RANDOM FOREST ###\n",
    "\n",
    "Below are the subsequent steps:\n",
    "* Downsizing data - using whole AOM dataset with y_parameter of 3\n",
    "* Blocking using the previous rule on the downsized dataset\n",
    "* Applying the classifier on the blocked dataset"
   ]
  },
  {
   "cell_type": "code",
   "execution_count": 7,
   "metadata": {
    "collapsed": false
   },
   "outputs": [
    {
     "name": "stderr",
     "output_type": "stream",
     "text": [
      "Metadata file is not present in the given path; proceeding to read the csv file.\n",
      "Metadata file is not present in the given path; proceeding to read the csv file.\n",
      "0%                          100%\n",
      "[##############################] | ETA: 00:00:51 | ETA: 00:00:47 | ETA: 00:00:45 | ETA: 00:00:43 | ETA: 00:00:41 | ETA: 00:00:39 | ETA: 00:00:37 | ETA: 00:00:36 | ETA: 00:00:34 | ETA: 00:00:32 | ETA: 00:00:30 | ETA: 00:00:29 | ETA: 00:00:27 | ETA: 00:00:25 | ETA: 00:00:24 | ETA: 00:00:22 | ETA: 00:00:20 | ETA: 00:00:19 | ETA: 00:00:17 | ETA: 00:00:15 | ETA: 00:00:14 | ETA: 00:00:12 | ETA: 00:00:11 | ETA: 00:00:09 | ETA: 00:00:07 | ETA: 00:00:06 | ETA: 00:00:04 | ETA: 00:00:03 | ETA: 00:00:01 | ETA: 00:00:00 | ETA: 00:00:00\n",
      "Total time elapsed: 00:00:47\n"
     ]
    }
   ],
   "source": [
    "AOM = em.read_csv_metadata(path_to_csv_dir + '2cleaned_aom.csv', key = csv_headers.AOM_INDEX)\n",
    "WHED = em.read_csv_metadata(path_to_csv_dir + '2cleaned_whed.csv', key = csv_headers.WHED_INDEX)\n",
    "\n",
    "AOM.shape\n",
    "# building inverted index based on B\n",
    "final_WHED, final_AOM = em.down_sample(WHED, AOM, size=9532, y_param=3)"
   ]
  },
  {
   "cell_type": "code",
   "execution_count": 9,
   "metadata": {
    "collapsed": false
   },
   "outputs": [
    {
     "name": "stderr",
     "output_type": "stream",
     "text": [
      "File already exists at /Users/thomasngo/Google Drive/_UW Madison/S4/CS 838/_Project/git_code/cs838-spring2017/stage4/1_rematch/csv_files/3downsized_AOM.pkl; Overwriting it\n",
      "Metadata file already exists at /Users/thomasngo/Google Drive/_UW Madison/S4/CS 838/_Project/git_code/cs838-spring2017/stage4/1_rematch/csv_files/3downsized_AOM.pklmetadata. Overwriting it\n",
      "File already exists at /Users/thomasngo/Google Drive/_UW Madison/S4/CS 838/_Project/git_code/cs838-spring2017/stage4/1_rematch/csv_files/3downsized_WHED.pkl; Overwriting it\n",
      "Metadata file already exists at /Users/thomasngo/Google Drive/_UW Madison/S4/CS 838/_Project/git_code/cs838-spring2017/stage4/1_rematch/csv_files/3downsized_WHED.pklmetadata. Overwriting it\n"
     ]
    },
    {
     "data": {
      "text/plain": [
       "True"
      ]
     },
     "execution_count": 9,
     "metadata": {},
     "output_type": "execute_result"
    }
   ],
   "source": [
    "em.save_table(final_AOM, path_to_csv_dir + '3downsized_AOM.pkl')\n",
    "em.save_table(final_WHED, path_to_csv_dir + '3downsized_WHED.pkl')"
   ]
  },
  {
   "cell_type": "code",
   "execution_count": 11,
   "metadata": {
    "collapsed": false
   },
   "outputs": [
    {
     "name": "stderr",
     "output_type": "stream",
     "text": [
      "0%                          100%\n",
      "[                              ]"
     ]
    },
    {
     "ename": "KeyboardInterrupt",
     "evalue": "",
     "output_type": "error",
     "traceback": [
      "\u001b[0;31m---------------------------------------------------------------------------\u001b[0m",
      "\u001b[0;31mKeyboardInterrupt\u001b[0m                         Traceback (most recent call last)",
      "\u001b[0;32m<ipython-input-11-340a5a201c3d>\u001b[0m in \u001b[0;36m<module>\u001b[0;34m()\u001b[0m\n\u001b[0;32m----> 1\u001b[0;31m \u001b[0mfinal_C\u001b[0m \u001b[0;34m=\u001b[0m \u001b[0mblocker\u001b[0m\u001b[0;34m.\u001b[0m\u001b[0mblocking\u001b[0m\u001b[0;34m(\u001b[0m\u001b[0mfinal_WHED\u001b[0m\u001b[0;34m,\u001b[0m \u001b[0mfinal_AOM\u001b[0m\u001b[0;34m,\u001b[0m \u001b[0mcsv_headers\u001b[0m\u001b[0;34m.\u001b[0m\u001b[0mWHED\u001b[0m\u001b[0;34m,\u001b[0m \u001b[0mcsv_headers\u001b[0m\u001b[0;34m.\u001b[0m\u001b[0mAOM\u001b[0m\u001b[0;34m)\u001b[0m\u001b[0;34m\u001b[0m\u001b[0m\n\u001b[0m\u001b[1;32m      2\u001b[0m \u001b[0mfinal_C\u001b[0m\u001b[0;34m.\u001b[0m\u001b[0mhead\u001b[0m\u001b[0;34m(\u001b[0m\u001b[0mn\u001b[0m\u001b[0;34m=\u001b[0m\u001b[0;36m5\u001b[0m\u001b[0;34m)\u001b[0m\u001b[0;34m\u001b[0m\u001b[0m\n",
      "\u001b[0;32m/Users/thomasngo/Google Drive/_UW Madison/S4/CS 838/_Project/git_code/cs838-spring2017/stage4/1_rematch/src/blocker.py\u001b[0m in \u001b[0;36mblocking\u001b[0;34m(A, B, headers_A, headers_B)\u001b[0m\n\u001b[1;32m     78\u001b[0m   \u001b[0mbb\u001b[0m \u001b[0;34m=\u001b[0m \u001b[0mem\u001b[0m\u001b[0;34m.\u001b[0m\u001b[0mBlackBoxBlocker\u001b[0m\u001b[0;34m(\u001b[0m\u001b[0;34m)\u001b[0m\u001b[0;34m\u001b[0m\u001b[0m\n\u001b[1;32m     79\u001b[0m   \u001b[0mbb\u001b[0m\u001b[0;34m.\u001b[0m\u001b[0mset_black_box_function\u001b[0m\u001b[0;34m(\u001b[0m\u001b[0mmatch_combined\u001b[0m\u001b[0;34m)\u001b[0m\u001b[0;34m\u001b[0m\u001b[0m\n\u001b[0;32m---> 80\u001b[0;31m   \u001b[0mC\u001b[0m \u001b[0;34m=\u001b[0m \u001b[0mbb\u001b[0m\u001b[0;34m.\u001b[0m\u001b[0mblock_tables\u001b[0m\u001b[0;34m(\u001b[0m\u001b[0mA\u001b[0m\u001b[0;34m,\u001b[0m \u001b[0mB\u001b[0m\u001b[0;34m,\u001b[0m \u001b[0ml_output_attrs\u001b[0m\u001b[0;34m=\u001b[0m\u001b[0mheaders_A\u001b[0m\u001b[0;34m,\u001b[0m \u001b[0mr_output_attrs\u001b[0m\u001b[0;34m=\u001b[0m\u001b[0mheaders_B\u001b[0m\u001b[0;34m)\u001b[0m\u001b[0;34m\u001b[0m\u001b[0m\n\u001b[0m\u001b[1;32m     81\u001b[0m   \u001b[0;32mreturn\u001b[0m \u001b[0mC\u001b[0m\u001b[0;34m\u001b[0m\u001b[0m\n",
      "\u001b[0;32m/usr/local/lib/python3.6/site-packages/py_entitymatching/blocker/black_box_blocker.py\u001b[0m in \u001b[0;36mblock_tables\u001b[0;34m(self, ltable, rtable, l_output_attrs, r_output_attrs, l_output_prefix, r_output_prefix, verbose, show_progress, n_jobs)\u001b[0m\n\u001b[1;32m    183\u001b[0m                                           \u001b[0ml_output_attrs_1\u001b[0m\u001b[0;34m,\u001b[0m \u001b[0mr_output_attrs_1\u001b[0m\u001b[0;34m,\u001b[0m\u001b[0;34m\u001b[0m\u001b[0m\n\u001b[1;32m    184\u001b[0m                                           \u001b[0ml_output_prefix\u001b[0m\u001b[0;34m,\u001b[0m \u001b[0mr_output_prefix\u001b[0m\u001b[0;34m,\u001b[0m\u001b[0;34m\u001b[0m\u001b[0m\n\u001b[0;32m--> 185\u001b[0;31m                                           black_box_function_pkl, show_progress)\n\u001b[0m\u001b[1;32m    186\u001b[0m         \u001b[0;32melse\u001b[0m\u001b[0;34m:\u001b[0m\u001b[0;34m\u001b[0m\u001b[0m\n\u001b[1;32m    187\u001b[0m             \u001b[0;31m# multiprocessing\u001b[0m\u001b[0;34m\u001b[0m\u001b[0;34m\u001b[0m\u001b[0m\n",
      "\u001b[0;32m/usr/local/lib/python3.6/site-packages/py_entitymatching/blocker/black_box_blocker.py\u001b[0m in \u001b[0;36m_block_tables_split\u001b[0;34m(l_df, r_df, l_key, r_key, l_output_attrs, r_output_attrs, l_output_prefix, r_output_prefix, black_box_function_pkl, show_progress)\u001b[0m\n\u001b[1;32m    424\u001b[0m \u001b[0;34m\u001b[0m\u001b[0m\n\u001b[1;32m    425\u001b[0m             \u001b[0;31m# # apply the black box function to the tuple pair\u001b[0m\u001b[0;34m\u001b[0m\u001b[0;34m\u001b[0m\u001b[0m\n\u001b[0;32m--> 426\u001b[0;31m             \u001b[0mres\u001b[0m \u001b[0;34m=\u001b[0m \u001b[0mblack_box_function\u001b[0m\u001b[0;34m(\u001b[0m\u001b[0mltuple\u001b[0m\u001b[0;34m,\u001b[0m \u001b[0mrtuple\u001b[0m\u001b[0;34m)\u001b[0m\u001b[0;34m\u001b[0m\u001b[0m\n\u001b[0m\u001b[1;32m    427\u001b[0m \u001b[0;34m\u001b[0m\u001b[0m\n\u001b[1;32m    428\u001b[0m             \u001b[0;32mif\u001b[0m \u001b[0mres\u001b[0m \u001b[0;34m!=\u001b[0m \u001b[0;32mTrue\u001b[0m\u001b[0;34m:\u001b[0m\u001b[0;34m\u001b[0m\u001b[0m\n",
      "\u001b[0;32m/Users/thomasngo/Google Drive/_UW Madison/S4/CS 838/_Project/git_code/cs838-spring2017/stage4/1_rematch/src/blocker.py\u001b[0m in \u001b[0;36mmatch_combined\u001b[0;34m(ltuple, rtuple)\u001b[0m\n\u001b[1;32m     62\u001b[0m \u001b[0;34m\u001b[0m\u001b[0m\n\u001b[1;32m     63\u001b[0m \u001b[0;32mdef\u001b[0m \u001b[0mmatch_combined\u001b[0m\u001b[0;34m(\u001b[0m\u001b[0mltuple\u001b[0m\u001b[0;34m,\u001b[0m \u001b[0mrtuple\u001b[0m\u001b[0;34m)\u001b[0m\u001b[0;34m:\u001b[0m\u001b[0;34m\u001b[0m\u001b[0m\n\u001b[0;32m---> 64\u001b[0;31m   \u001b[0;32mif\u001b[0m \u001b[0mmatch_country\u001b[0m\u001b[0;34m(\u001b[0m\u001b[0mltuple\u001b[0m\u001b[0;34m,\u001b[0m \u001b[0mrtuple\u001b[0m\u001b[0;34m)\u001b[0m \u001b[0;32mis\u001b[0m \u001b[0;32mFalse\u001b[0m\u001b[0;34m:\u001b[0m\u001b[0;34m\u001b[0m\u001b[0m\n\u001b[0m\u001b[1;32m     65\u001b[0m     \u001b[0;32mreturn\u001b[0m \u001b[0;32mTrue\u001b[0m\u001b[0;34m\u001b[0m\u001b[0m\n\u001b[1;32m     66\u001b[0m   \u001b[0;32melif\u001b[0m \u001b[0;34m(\u001b[0m\u001b[0mmatch_country_us\u001b[0m\u001b[0;34m(\u001b[0m\u001b[0mltuple\u001b[0m\u001b[0;34m,\u001b[0m\u001b[0mrtuple\u001b[0m\u001b[0;34m)\u001b[0m \u001b[0;32mis\u001b[0m \u001b[0;32mTrue\u001b[0m\u001b[0;34m)\u001b[0m \u001b[0;32mand\u001b[0m \u001b[0;34m(\u001b[0m\u001b[0mmatch_prov\u001b[0m\u001b[0;34m(\u001b[0m\u001b[0mltuple\u001b[0m\u001b[0;34m,\u001b[0m\u001b[0mrtuple\u001b[0m\u001b[0;34m)\u001b[0m \u001b[0;32mis\u001b[0m \u001b[0;32mFalse\u001b[0m\u001b[0;34m)\u001b[0m\u001b[0;34m:\u001b[0m\u001b[0;34m\u001b[0m\u001b[0m\n",
      "\u001b[0;32m/Users/thomasngo/Google Drive/_UW Madison/S4/CS 838/_Project/git_code/cs838-spring2017/stage4/1_rematch/src/blocker.py\u001b[0m in \u001b[0;36mmatch_country\u001b[0;34m(ltuple, rtuple)\u001b[0m\n\u001b[1;32m      4\u001b[0m \u001b[0;34m\u001b[0m\u001b[0m\n\u001b[1;32m      5\u001b[0m \u001b[0;32mdef\u001b[0m \u001b[0mmatch_country\u001b[0m\u001b[0;34m(\u001b[0m\u001b[0mltuple\u001b[0m\u001b[0;34m,\u001b[0m \u001b[0mrtuple\u001b[0m\u001b[0;34m)\u001b[0m\u001b[0;34m:\u001b[0m\u001b[0;34m\u001b[0m\u001b[0m\n\u001b[0;32m----> 6\u001b[0;31m   \u001b[0ml_country\u001b[0m \u001b[0;34m=\u001b[0m \u001b[0mltuple\u001b[0m\u001b[0;34m[\u001b[0m\u001b[0;34m'a_country'\u001b[0m\u001b[0;34m]\u001b[0m\u001b[0;34m\u001b[0m\u001b[0m\n\u001b[0m\u001b[1;32m      7\u001b[0m   \u001b[0mr_country\u001b[0m \u001b[0;34m=\u001b[0m \u001b[0mrtuple\u001b[0m\u001b[0;34m[\u001b[0m\u001b[0;34m'a_country'\u001b[0m\u001b[0;34m]\u001b[0m\u001b[0;34m\u001b[0m\u001b[0m\n\u001b[1;32m      8\u001b[0m   \u001b[0;32mif\u001b[0m \u001b[0;34m(\u001b[0m\u001b[0ml_country\u001b[0m \u001b[0;34m==\u001b[0m \u001b[0;34m\"\"\u001b[0m\u001b[0;34m)\u001b[0m \u001b[0;32mor\u001b[0m \u001b[0;34m(\u001b[0m\u001b[0mr_country\u001b[0m \u001b[0;34m==\u001b[0m \u001b[0;34m\"\"\u001b[0m\u001b[0;34m)\u001b[0m\u001b[0;34m:\u001b[0m\u001b[0;34m\u001b[0m\u001b[0m\n",
      "\u001b[0;32m/usr/local/lib/python3.6/site-packages/pandas/core/series.py\u001b[0m in \u001b[0;36m__getitem__\u001b[0;34m(self, key)\u001b[0m\n\u001b[1;32m    601\u001b[0m         \u001b[0mkey\u001b[0m \u001b[0;34m=\u001b[0m \u001b[0mcom\u001b[0m\u001b[0;34m.\u001b[0m\u001b[0m_apply_if_callable\u001b[0m\u001b[0;34m(\u001b[0m\u001b[0mkey\u001b[0m\u001b[0;34m,\u001b[0m \u001b[0mself\u001b[0m\u001b[0;34m)\u001b[0m\u001b[0;34m\u001b[0m\u001b[0m\n\u001b[1;32m    602\u001b[0m         \u001b[0;32mtry\u001b[0m\u001b[0;34m:\u001b[0m\u001b[0;34m\u001b[0m\u001b[0m\n\u001b[0;32m--> 603\u001b[0;31m             \u001b[0mresult\u001b[0m \u001b[0;34m=\u001b[0m \u001b[0mself\u001b[0m\u001b[0;34m.\u001b[0m\u001b[0mindex\u001b[0m\u001b[0;34m.\u001b[0m\u001b[0mget_value\u001b[0m\u001b[0;34m(\u001b[0m\u001b[0mself\u001b[0m\u001b[0;34m,\u001b[0m \u001b[0mkey\u001b[0m\u001b[0;34m)\u001b[0m\u001b[0;34m\u001b[0m\u001b[0m\n\u001b[0m\u001b[1;32m    604\u001b[0m \u001b[0;34m\u001b[0m\u001b[0m\n\u001b[1;32m    605\u001b[0m             \u001b[0;32mif\u001b[0m \u001b[0;32mnot\u001b[0m \u001b[0mis_scalar\u001b[0m\u001b[0;34m(\u001b[0m\u001b[0mresult\u001b[0m\u001b[0;34m)\u001b[0m\u001b[0;34m:\u001b[0m\u001b[0;34m\u001b[0m\u001b[0m\n",
      "\u001b[0;32m/usr/local/lib/python3.6/site-packages/pandas/indexes/base.py\u001b[0m in \u001b[0;36mget_value\u001b[0;34m(self, series, key)\u001b[0m\n\u001b[1;32m   2153\u001b[0m         \u001b[0;31m# use this, e.g. DatetimeIndex\u001b[0m\u001b[0;34m\u001b[0m\u001b[0;34m\u001b[0m\u001b[0m\n\u001b[1;32m   2154\u001b[0m         \u001b[0ms\u001b[0m \u001b[0;34m=\u001b[0m \u001b[0mgetattr\u001b[0m\u001b[0;34m(\u001b[0m\u001b[0mseries\u001b[0m\u001b[0;34m,\u001b[0m \u001b[0;34m'_values'\u001b[0m\u001b[0;34m,\u001b[0m \u001b[0;32mNone\u001b[0m\u001b[0;34m)\u001b[0m\u001b[0;34m\u001b[0m\u001b[0m\n\u001b[0;32m-> 2155\u001b[0;31m         \u001b[0;32mif\u001b[0m \u001b[0misinstance\u001b[0m\u001b[0;34m(\u001b[0m\u001b[0ms\u001b[0m\u001b[0;34m,\u001b[0m \u001b[0mIndex\u001b[0m\u001b[0;34m)\u001b[0m \u001b[0;32mand\u001b[0m \u001b[0mis_scalar\u001b[0m\u001b[0;34m(\u001b[0m\u001b[0mkey\u001b[0m\u001b[0;34m)\u001b[0m\u001b[0;34m:\u001b[0m\u001b[0;34m\u001b[0m\u001b[0m\n\u001b[0m\u001b[1;32m   2156\u001b[0m             \u001b[0;32mtry\u001b[0m\u001b[0;34m:\u001b[0m\u001b[0;34m\u001b[0m\u001b[0m\n\u001b[1;32m   2157\u001b[0m                 \u001b[0;32mreturn\u001b[0m \u001b[0ms\u001b[0m\u001b[0;34m[\u001b[0m\u001b[0mkey\u001b[0m\u001b[0;34m]\u001b[0m\u001b[0;34m\u001b[0m\u001b[0m\n",
      "\u001b[0;31mKeyboardInterrupt\u001b[0m: "
     ]
    }
   ],
   "source": [
    "final_C = blocker.blocking(final_WHED, final_AOM, csv_headers.WHED, csv_headers.AOM)\n",
    "final_C.head(n=5)"
   ]
  },
  {
   "cell_type": "code",
   "execution_count": 13,
   "metadata": {
    "collapsed": false
   },
   "outputs": [
    {
     "ename": "NameError",
     "evalue": "name 'final_C' is not defined",
     "output_type": "error",
     "traceback": [
      "\u001b[0;31m---------------------------------------------------------------------------\u001b[0m",
      "\u001b[0;31mNameError\u001b[0m                                 Traceback (most recent call last)",
      "\u001b[0;32m<ipython-input-13-4bb5bda73afc>\u001b[0m in \u001b[0;36m<module>\u001b[0;34m()\u001b[0m\n\u001b[0;32m----> 1\u001b[0;31m \u001b[0mem\u001b[0m\u001b[0;34m.\u001b[0m\u001b[0msave_table\u001b[0m\u001b[0;34m(\u001b[0m\u001b[0mfinal_C\u001b[0m\u001b[0;34m,\u001b[0m \u001b[0mpath_to_csv_dir\u001b[0m \u001b[0;34m+\u001b[0m \u001b[0;34m'4blocked_samplespace.pkl'\u001b[0m\u001b[0;34m)\u001b[0m\u001b[0;34m\u001b[0m\u001b[0m\n\u001b[0m",
      "\u001b[0;31mNameError\u001b[0m: name 'final_C' is not defined"
     ]
    }
   ],
   "source": [
    "em.save_table(final_C, path_to_csv_dir + '4blocked_samplespace.pkl')"
   ]
  },
  {
   "cell_type": "markdown",
   "metadata": {},
   "source": [
    "### Load model and classify"
   ]
  },
  {
   "cell_type": "code",
   "execution_count": 14,
   "metadata": {
    "collapsed": false
   },
   "outputs": [
    {
     "name": "stdout",
     "output_type": "stream",
     "text": [
      "(27887, 13)\n"
     ]
    },
    {
     "data": {
      "text/html": [
       "<div>\n",
       "<table border=\"1\" class=\"dataframe\">\n",
       "  <thead>\n",
       "    <tr style=\"text-align: right;\">\n",
       "      <th></th>\n",
       "      <th>_id</th>\n",
       "      <th>ltable_a_id</th>\n",
       "      <th>rtable_person_id</th>\n",
       "      <th>ltable_a_name</th>\n",
       "      <th>ltable_a_city</th>\n",
       "      <th>ltable_a_prov</th>\n",
       "      <th>ltable_a_country</th>\n",
       "      <th>ltable_a_web</th>\n",
       "      <th>rtable_a_name</th>\n",
       "      <th>rtable_a_city</th>\n",
       "      <th>rtable_a_prov</th>\n",
       "      <th>rtable_a_country</th>\n",
       "      <th>rtable_a_email_server</th>\n",
       "    </tr>\n",
       "  </thead>\n",
       "  <tbody>\n",
       "    <tr>\n",
       "      <th>0</th>\n",
       "      <td>0</td>\n",
       "      <td>9</td>\n",
       "      <td>54111</td>\n",
       "      <td>aalborg university</td>\n",
       "      <td>aalborg</td>\n",
       "      <td>NaN</td>\n",
       "      <td>denmark</td>\n",
       "      <td>http://www.aau.dk</td>\n",
       "      <td>aalborg university</td>\n",
       "      <td>branbrand</td>\n",
       "      <td>NaN</td>\n",
       "      <td>denmark</td>\n",
       "      <td>u-k.dk</td>\n",
       "    </tr>\n",
       "    <tr>\n",
       "      <th>1</th>\n",
       "      <td>1</td>\n",
       "      <td>9</td>\n",
       "      <td>54203</td>\n",
       "      <td>aalborg university</td>\n",
       "      <td>aalborg</td>\n",
       "      <td>NaN</td>\n",
       "      <td>denmark</td>\n",
       "      <td>http://www.aau.dk</td>\n",
       "      <td>aalborg university</td>\n",
       "      <td>aalborg</td>\n",
       "      <td>NaN</td>\n",
       "      <td>denmark</td>\n",
       "      <td>hum.aau.dk</td>\n",
       "    </tr>\n",
       "    <tr>\n",
       "      <th>2</th>\n",
       "      <td>2</td>\n",
       "      <td>10</td>\n",
       "      <td>29724</td>\n",
       "      <td>aalto university</td>\n",
       "      <td>espoo</td>\n",
       "      <td>NaN</td>\n",
       "      <td>finland</td>\n",
       "      <td>http://www.aalto.fi/fi/</td>\n",
       "      <td>aalto university</td>\n",
       "      <td>espoo</td>\n",
       "      <td>NaN</td>\n",
       "      <td>finland</td>\n",
       "      <td>aalto.fi</td>\n",
       "    </tr>\n",
       "    <tr>\n",
       "      <th>3</th>\n",
       "      <td>3</td>\n",
       "      <td>10</td>\n",
       "      <td>14261</td>\n",
       "      <td>aalto university</td>\n",
       "      <td>espoo</td>\n",
       "      <td>NaN</td>\n",
       "      <td>finland</td>\n",
       "      <td>http://www.aalto.fi/fi/</td>\n",
       "      <td>aalto university</td>\n",
       "      <td>espoo</td>\n",
       "      <td>NaN</td>\n",
       "      <td>finland</td>\n",
       "      <td>stratnet.org</td>\n",
       "    </tr>\n",
       "    <tr>\n",
       "      <th>4</th>\n",
       "      <td>4</td>\n",
       "      <td>10</td>\n",
       "      <td>43727</td>\n",
       "      <td>aalto university</td>\n",
       "      <td>espoo</td>\n",
       "      <td>NaN</td>\n",
       "      <td>finland</td>\n",
       "      <td>http://www.aalto.fi/fi/</td>\n",
       "      <td>aalto university</td>\n",
       "      <td>helsinki</td>\n",
       "      <td>helsinki</td>\n",
       "      <td>finland</td>\n",
       "      <td>aalto.fi</td>\n",
       "    </tr>\n",
       "  </tbody>\n",
       "</table>\n",
       "</div>"
      ],
      "text/plain": [
       "   _id  ltable_a_id  rtable_person_id       ltable_a_name ltable_a_city  \\\n",
       "0    0            9             54111  aalborg university       aalborg   \n",
       "1    1            9             54203  aalborg university       aalborg   \n",
       "2    2           10             29724    aalto university         espoo   \n",
       "3    3           10             14261    aalto university         espoo   \n",
       "4    4           10             43727    aalto university         espoo   \n",
       "\n",
       "  ltable_a_prov ltable_a_country             ltable_a_web       rtable_a_name  \\\n",
       "0           NaN          denmark        http://www.aau.dk  aalborg university   \n",
       "1           NaN          denmark        http://www.aau.dk  aalborg university   \n",
       "2           NaN          finland  http://www.aalto.fi/fi/    aalto university   \n",
       "3           NaN          finland  http://www.aalto.fi/fi/    aalto university   \n",
       "4           NaN          finland  http://www.aalto.fi/fi/    aalto university   \n",
       "\n",
       "  rtable_a_city rtable_a_prov rtable_a_country rtable_a_email_server  \n",
       "0     branbrand           NaN          denmark                u-k.dk  \n",
       "1       aalborg           NaN          denmark            hum.aau.dk  \n",
       "2         espoo           NaN          finland              aalto.fi  \n",
       "3         espoo           NaN          finland          stratnet.org  \n",
       "4      helsinki      helsinki          finland              aalto.fi  "
      ]
     },
     "execution_count": 14,
     "metadata": {},
     "output_type": "execute_result"
    }
   ],
   "source": [
    "final_C = em.load_table(path_to_csv_dir + '4blocked_samplespace.pkl', metadata_ext='.pklmetadata')\n",
    "em.set_ltable(final_C, WHED)\n",
    "em.set_rtable(final_C, AOM)\n",
    "em.set_fk_ltable(final_C, 'ltable_' + csv_headers.WHED_INDEX)\n",
    "em.set_fk_rtable(final_C, 'rtable_' + csv_headers.AOM_INDEX)\n",
    "print(final_C.shape)\n",
    "final_C.head()"
   ]
  },
  {
   "cell_type": "code",
   "execution_count": 15,
   "metadata": {
    "collapsed": false
   },
   "outputs": [],
   "source": [
    "F = em.get_features_for_matching(WHED, AOM)\n",
    "em.add_blackbox_feature(F, 'is_same_server', custom_matcher.is_same_server)\n",
    "em.add_blackbox_feature(F, 'is_same_single_server', custom_matcher.is_same_single_server)\n",
    "\n",
    "\n",
    "final_K = em.extract_feature_vecs(final_C, \n",
    "                                feature_table=F, \n",
    "                                show_progress=False)  \n",
    "final_K = em.impute_table(final_K, \n",
    "                exclude_attrs=['_id', 'ltable_' + csv_headers.WHED_INDEX, 'rtable_' + csv_headers.AOM_INDEX],\n",
    "                strategy='mean')"
   ]
  },
  {
   "cell_type": "code",
   "execution_count": 16,
   "metadata": {
    "collapsed": false
   },
   "outputs": [
    {
     "name": "stderr",
     "output_type": "stream",
     "text": [
      "Metadata file already exists at /Users/thomasngo/Google Drive/_UW Madison/S4/CS 838/_Project/git_code/cs838-spring2017/stage4/1_rematch/csv_files/5feature_vector.pklmetadata. Overwriting it\n"
     ]
    },
    {
     "data": {
      "text/html": [
       "<div>\n",
       "<table border=\"1\" class=\"dataframe\">\n",
       "  <thead>\n",
       "    <tr style=\"text-align: right;\">\n",
       "      <th></th>\n",
       "      <th>_id</th>\n",
       "      <th>ltable_a_id</th>\n",
       "      <th>rtable_person_id</th>\n",
       "      <th>a_name_a_name_jac_qgm_3_qgm_3</th>\n",
       "      <th>a_name_a_name_cos_dlm_dc0_dlm_dc0</th>\n",
       "      <th>a_name_a_name_jac_dlm_dc0_dlm_dc0</th>\n",
       "      <th>a_name_a_name_mel</th>\n",
       "      <th>a_name_a_name_lev_dist</th>\n",
       "      <th>a_name_a_name_lev_sim</th>\n",
       "      <th>a_name_a_name_nmw</th>\n",
       "      <th>...</th>\n",
       "      <th>a_prov_a_prov_jac_qgm_3_qgm_3</th>\n",
       "      <th>a_prov_a_prov_cos_dlm_dc0_dlm_dc0</th>\n",
       "      <th>a_prov_a_prov_jac_dlm_dc0_dlm_dc0</th>\n",
       "      <th>a_prov_a_prov_mel</th>\n",
       "      <th>a_prov_a_prov_lev_dist</th>\n",
       "      <th>a_prov_a_prov_lev_sim</th>\n",
       "      <th>a_prov_a_prov_nmw</th>\n",
       "      <th>a_prov_a_prov_sw</th>\n",
       "      <th>is_same_server</th>\n",
       "      <th>is_same_single_server</th>\n",
       "    </tr>\n",
       "  </thead>\n",
       "  <tbody>\n",
       "    <tr>\n",
       "      <th>0</th>\n",
       "      <td>0</td>\n",
       "      <td>9</td>\n",
       "      <td>54111</td>\n",
       "      <td>1.0</td>\n",
       "      <td>1.0</td>\n",
       "      <td>1.0</td>\n",
       "      <td>1.0</td>\n",
       "      <td>0.0</td>\n",
       "      <td>1.0</td>\n",
       "      <td>18.0</td>\n",
       "      <td>...</td>\n",
       "      <td>0.893409</td>\n",
       "      <td>0.890104</td>\n",
       "      <td>0.887168</td>\n",
       "      <td>0.956123</td>\n",
       "      <td>1.037413</td>\n",
       "      <td>0.909672</td>\n",
       "      <td>7.301507</td>\n",
       "      <td>8.041462</td>\n",
       "      <td>0.0</td>\n",
       "      <td>0.0</td>\n",
       "    </tr>\n",
       "    <tr>\n",
       "      <th>1</th>\n",
       "      <td>1</td>\n",
       "      <td>9</td>\n",
       "      <td>54203</td>\n",
       "      <td>1.0</td>\n",
       "      <td>1.0</td>\n",
       "      <td>1.0</td>\n",
       "      <td>1.0</td>\n",
       "      <td>0.0</td>\n",
       "      <td>1.0</td>\n",
       "      <td>18.0</td>\n",
       "      <td>...</td>\n",
       "      <td>0.893409</td>\n",
       "      <td>0.890104</td>\n",
       "      <td>0.887168</td>\n",
       "      <td>0.956123</td>\n",
       "      <td>1.037413</td>\n",
       "      <td>0.909672</td>\n",
       "      <td>7.301507</td>\n",
       "      <td>8.041462</td>\n",
       "      <td>0.0</td>\n",
       "      <td>1.0</td>\n",
       "    </tr>\n",
       "    <tr>\n",
       "      <th>2</th>\n",
       "      <td>2</td>\n",
       "      <td>10</td>\n",
       "      <td>29724</td>\n",
       "      <td>1.0</td>\n",
       "      <td>1.0</td>\n",
       "      <td>1.0</td>\n",
       "      <td>1.0</td>\n",
       "      <td>0.0</td>\n",
       "      <td>1.0</td>\n",
       "      <td>16.0</td>\n",
       "      <td>...</td>\n",
       "      <td>0.893409</td>\n",
       "      <td>0.890104</td>\n",
       "      <td>0.887168</td>\n",
       "      <td>0.956123</td>\n",
       "      <td>1.037413</td>\n",
       "      <td>0.909672</td>\n",
       "      <td>7.301507</td>\n",
       "      <td>8.041462</td>\n",
       "      <td>1.0</td>\n",
       "      <td>1.0</td>\n",
       "    </tr>\n",
       "    <tr>\n",
       "      <th>3</th>\n",
       "      <td>3</td>\n",
       "      <td>10</td>\n",
       "      <td>14261</td>\n",
       "      <td>1.0</td>\n",
       "      <td>1.0</td>\n",
       "      <td>1.0</td>\n",
       "      <td>1.0</td>\n",
       "      <td>0.0</td>\n",
       "      <td>1.0</td>\n",
       "      <td>16.0</td>\n",
       "      <td>...</td>\n",
       "      <td>0.893409</td>\n",
       "      <td>0.890104</td>\n",
       "      <td>0.887168</td>\n",
       "      <td>0.956123</td>\n",
       "      <td>1.037413</td>\n",
       "      <td>0.909672</td>\n",
       "      <td>7.301507</td>\n",
       "      <td>8.041462</td>\n",
       "      <td>0.0</td>\n",
       "      <td>0.0</td>\n",
       "    </tr>\n",
       "    <tr>\n",
       "      <th>4</th>\n",
       "      <td>4</td>\n",
       "      <td>10</td>\n",
       "      <td>43727</td>\n",
       "      <td>1.0</td>\n",
       "      <td>1.0</td>\n",
       "      <td>1.0</td>\n",
       "      <td>1.0</td>\n",
       "      <td>0.0</td>\n",
       "      <td>1.0</td>\n",
       "      <td>16.0</td>\n",
       "      <td>...</td>\n",
       "      <td>0.893409</td>\n",
       "      <td>0.890104</td>\n",
       "      <td>0.887168</td>\n",
       "      <td>0.956123</td>\n",
       "      <td>1.037413</td>\n",
       "      <td>0.909672</td>\n",
       "      <td>7.301507</td>\n",
       "      <td>8.041462</td>\n",
       "      <td>1.0</td>\n",
       "      <td>1.0</td>\n",
       "    </tr>\n",
       "  </tbody>\n",
       "</table>\n",
       "<p>5 rows × 37 columns</p>\n",
       "</div>"
      ],
      "text/plain": [
       "   _id  ltable_a_id  rtable_person_id  a_name_a_name_jac_qgm_3_qgm_3  \\\n",
       "0    0            9             54111                            1.0   \n",
       "1    1            9             54203                            1.0   \n",
       "2    2           10             29724                            1.0   \n",
       "3    3           10             14261                            1.0   \n",
       "4    4           10             43727                            1.0   \n",
       "\n",
       "   a_name_a_name_cos_dlm_dc0_dlm_dc0  a_name_a_name_jac_dlm_dc0_dlm_dc0  \\\n",
       "0                                1.0                                1.0   \n",
       "1                                1.0                                1.0   \n",
       "2                                1.0                                1.0   \n",
       "3                                1.0                                1.0   \n",
       "4                                1.0                                1.0   \n",
       "\n",
       "   a_name_a_name_mel  a_name_a_name_lev_dist  a_name_a_name_lev_sim  \\\n",
       "0                1.0                     0.0                    1.0   \n",
       "1                1.0                     0.0                    1.0   \n",
       "2                1.0                     0.0                    1.0   \n",
       "3                1.0                     0.0                    1.0   \n",
       "4                1.0                     0.0                    1.0   \n",
       "\n",
       "   a_name_a_name_nmw          ...            a_prov_a_prov_jac_qgm_3_qgm_3  \\\n",
       "0               18.0          ...                                 0.893409   \n",
       "1               18.0          ...                                 0.893409   \n",
       "2               16.0          ...                                 0.893409   \n",
       "3               16.0          ...                                 0.893409   \n",
       "4               16.0          ...                                 0.893409   \n",
       "\n",
       "   a_prov_a_prov_cos_dlm_dc0_dlm_dc0  a_prov_a_prov_jac_dlm_dc0_dlm_dc0  \\\n",
       "0                           0.890104                           0.887168   \n",
       "1                           0.890104                           0.887168   \n",
       "2                           0.890104                           0.887168   \n",
       "3                           0.890104                           0.887168   \n",
       "4                           0.890104                           0.887168   \n",
       "\n",
       "   a_prov_a_prov_mel  a_prov_a_prov_lev_dist  a_prov_a_prov_lev_sim  \\\n",
       "0           0.956123                1.037413               0.909672   \n",
       "1           0.956123                1.037413               0.909672   \n",
       "2           0.956123                1.037413               0.909672   \n",
       "3           0.956123                1.037413               0.909672   \n",
       "4           0.956123                1.037413               0.909672   \n",
       "\n",
       "   a_prov_a_prov_nmw  a_prov_a_prov_sw  is_same_server  is_same_single_server  \n",
       "0           7.301507          8.041462             0.0                    0.0  \n",
       "1           7.301507          8.041462             0.0                    1.0  \n",
       "2           7.301507          8.041462             1.0                    1.0  \n",
       "3           7.301507          8.041462             0.0                    0.0  \n",
       "4           7.301507          8.041462             1.0                    1.0  \n",
       "\n",
       "[5 rows x 37 columns]"
      ]
     },
     "execution_count": 16,
     "metadata": {},
     "output_type": "execute_result"
    }
   ],
   "source": [
    "em.save_table(final_K,ç'5feature_vector')\n",
    "final_K.head()"
   ]
  },
  {
   "cell_type": "code",
   "execution_count": 18,
   "metadata": {
    "collapsed": false
   },
   "outputs": [
    {
     "data": {
      "text/plain": [
       "(27887, 37)"
      ]
     },
     "execution_count": 18,
     "metadata": {},
     "output_type": "execute_result"
    }
   ],
   "source": [
    "# We have 37 features\n",
    "final_K.shape  "
   ]
  },
  {
   "cell_type": "code",
   "execution_count": 19,
   "metadata": {
    "collapsed": false
   },
   "outputs": [],
   "source": [
    "rf = em.load_object('./rf_classifier.pkl')\n",
    "predictions = rf.predict(table=final_K, exclude_attrs=['_id', 'ltable_' + csv_headers.WHED_INDEX, 'rtable_' + csv_headers.AOM_INDEX],\n",
    "                append=True, target_attr='predicted', inplace=False)"
   ]
  },
  {
   "cell_type": "code",
   "execution_count": 25,
   "metadata": {
    "collapsed": false
   },
   "outputs": [],
   "source": [
    "matched = predictions[predictions['predicted'] == 1]\n",
    "matched.shape\n",
    "matched_id = matched['_id']\n",
    "df = final_C.loc[final_C['_id'].isin(matched_id)]\n",
    "\n",
    "# Keep American universities only\n",
    "df = df[df.rtable_a_country == 'united states']\n",
    "df.to_csv(path_to_csv_dir +'6matched_tuples.csv', index=False)\n"
   ]
  }
 ],
 "metadata": {
  "kernelspec": {
   "display_name": "Python 3",
   "language": "python",
   "name": "python3"
  },
  "language_info": {
   "codemirror_mode": {
    "name": "ipython",
    "version": 3
   },
   "file_extension": ".py",
   "mimetype": "text/x-python",
   "name": "python",
   "nbconvert_exporter": "python",
   "pygments_lexer": "ipython3",
   "version": "3.6.0"
  }
 },
 "nbformat": 4,
 "nbformat_minor": 2
}
