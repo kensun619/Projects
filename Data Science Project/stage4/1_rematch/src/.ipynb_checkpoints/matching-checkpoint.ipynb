{
 "cells": [
  {
   "cell_type": "code",
   "execution_count": 1,
   "metadata": {
    "collapsed": false
   },
   "outputs": [
    {
     "name": "stdout",
     "output_type": "stream",
     "text": [
      "magellan version:0.1.0\n"
     ]
    }
   ],
   "source": [
    "import sys\n",
    "import os\n",
    "import py_entitymatching as em\n",
    "print('magellan version:' + em.__version__)\n",
    "import re\n",
    "import csv\n",
    "import pandas as pd\n",
    "from constants import countries, states, cities, domains\n",
    "from cleaner import Cleaner\n",
    "from constants import csv_headers\n",
    "import custom_matcher"
   ]
  },
  {
   "cell_type": "code",
   "execution_count": 2,
   "metadata": {
    "collapsed": false
   },
   "outputs": [
    {
     "name": "stderr",
     "output_type": "stream",
     "text": [
      "Metadata file is not present in the given path; proceeding to read the csv file.\n",
      "Metadata file is not present in the given path; proceeding to read the csv file.\n",
      "Metadata file is not present in the given path; proceeding to read the csv file.\n"
     ]
    }
   ],
   "source": [
    "working_dir = os.path.dirname(os.getcwd())\n",
    "path_to_csv_dir = working_dir + os.sep + 'csv_files'+ os.sep\n",
    "\n",
    "AOM = em.read_csv_metadata(path_to_csv_dir + '_aom.csv', key = csv_headers.AOM_INDEX)\n",
    "WHED = em.read_csv_metadata(path_to_csv_dir + '_whed.csv', key = csv_headers.WHED_INDEX)\n",
    "labeled_data = em.read_csv_metadata(path_to_csv_dir + 'golden_data_labeled_nomissing.csv', key='_id',\n",
    "                                                                 ltable=WHED, rtable=AOM, \n",
    "                                                                 fk_ltable='ltable_' + csv_headers.WHED_INDEX, \n",
    "                                                                 fk_rtable='rtable_' + csv_headers.AOM_INDEX,encoding = \"ISO-8859-1\")"
   ]
  },
  {
   "cell_type": "code",
   "execution_count": 3,
   "metadata": {
    "collapsed": false
   },
   "outputs": [],
   "source": [
    "IJ = em.split_train_test(labeled_data, train_proportion=0.5, random_state=0)\n",
    "I = IJ['train']\n",
    "J = IJ['test']"
   ]
  },
  {
   "cell_type": "code",
   "execution_count": 4,
   "metadata": {
    "collapsed": false
   },
   "outputs": [],
   "source": [
    "# Create a set of ML-matchers\n",
    "dt = em.DTMatcher(name='DecisionTree', random_state=0)\n",
    "svm = em.SVMMatcher(name='SVM', random_state=0)\n",
    "rf = em.RFMatcher(name='RF', random_state=0)\n",
    "lg = em.LogRegMatcher(name='LogReg', random_state=0)\n",
    "ln = em.LinRegMatcher(name='LinReg')"
   ]
  },
  {
   "cell_type": "code",
   "execution_count": 5,
   "metadata": {
    "collapsed": false
   },
   "outputs": [
    {
     "data": {
      "text/plain": [
       "0               a_name_a_name_jac_qgm_3_qgm_3\n",
       "1           a_name_a_name_cos_dlm_dc0_dlm_dc0\n",
       "2           a_name_a_name_jac_dlm_dc0_dlm_dc0\n",
       "3                           a_name_a_name_mel\n",
       "4                      a_name_a_name_lev_dist\n",
       "5                       a_name_a_name_lev_sim\n",
       "6                           a_name_a_name_nmw\n",
       "7                            a_name_a_name_sw\n",
       "8         a_country_a_country_jac_qgm_3_qgm_3\n",
       "9     a_country_a_country_cos_dlm_dc0_dlm_dc0\n",
       "10    a_country_a_country_jac_dlm_dc0_dlm_dc0\n",
       "11                    a_country_a_country_mel\n",
       "12               a_country_a_country_lev_dist\n",
       "13                a_country_a_country_lev_sim\n",
       "14                    a_country_a_country_nmw\n",
       "15                     a_country_a_country_sw\n",
       "16              a_city_a_city_jac_qgm_3_qgm_3\n",
       "17          a_city_a_city_cos_dlm_dc0_dlm_dc0\n",
       "18          a_city_a_city_jac_dlm_dc0_dlm_dc0\n",
       "19                          a_city_a_city_mel\n",
       "20                     a_city_a_city_lev_dist\n",
       "21                      a_city_a_city_lev_sim\n",
       "22                          a_city_a_city_nmw\n",
       "23                           a_city_a_city_sw\n",
       "24              a_prov_a_prov_jac_qgm_3_qgm_3\n",
       "25          a_prov_a_prov_cos_dlm_dc0_dlm_dc0\n",
       "26          a_prov_a_prov_jac_dlm_dc0_dlm_dc0\n",
       "27                          a_prov_a_prov_mel\n",
       "28                     a_prov_a_prov_lev_dist\n",
       "29                      a_prov_a_prov_lev_sim\n",
       "30                          a_prov_a_prov_nmw\n",
       "31                           a_prov_a_prov_sw\n",
       "32                             is_same_server\n",
       "33                      is_same_single_server\n",
       "Name: feature_name, dtype: object"
      ]
     },
     "execution_count": 5,
     "metadata": {},
     "output_type": "execute_result"
    }
   ],
   "source": [
    "# Generate a set of features\n",
    "F = em.get_features_for_matching(WHED, AOM)\n",
    "      \n",
    "em.add_blackbox_feature(F, 'is_same_server', custom_matcher.is_same_server)\n",
    "em.add_blackbox_feature(F, 'is_same_single_server', custom_matcher.is_same_single_server)\n",
    "\n",
    "F.feature_name"
   ]
  },
  {
   "cell_type": "code",
   "execution_count": 6,
   "metadata": {
    "collapsed": false
   },
   "outputs": [],
   "source": [
    "# Convert the I into a set of feature vectors using F\n",
    "H = em.extract_feature_vecs(I, \n",
    "                            feature_table=F, \n",
    "                            attrs_after='gold_label',\n",
    "                            show_progress=False)  \n",
    "# Display first few rows\n",
    "# H[['_id','is_same_server','is_same_single_server']]\n"
   ]
  },
  {
   "cell_type": "code",
   "execution_count": 7,
   "metadata": {
    "collapsed": false
   },
   "outputs": [
    {
     "data": {
      "text/plain": [
       "True"
      ]
     },
     "execution_count": 7,
     "metadata": {},
     "output_type": "execute_result"
    }
   ],
   "source": [
    "# Check if the feature vectors contain missing values\n",
    "# A return value of True means that there are missing values\n",
    "any(pd.notnull(H))"
   ]
  },
  {
   "cell_type": "code",
   "execution_count": 8,
   "metadata": {
    "collapsed": false
   },
   "outputs": [],
   "source": [
    "# Impute feature vectors with the mean of the column values.\n",
    "H = em.impute_table(H, \n",
    "                exclude_attrs=['_id', 'ltable_' + csv_headers.WHED_INDEX, 'rtable_' + csv_headers.AOM_INDEX, 'gold_label'],\n",
    "                strategy='mean')"
   ]
  },
  {
   "cell_type": "code",
   "execution_count": 9,
   "metadata": {
    "collapsed": false,
    "scrolled": true
   },
   "outputs": [
    {
     "name": "stderr",
     "output_type": "stream",
     "text": [
      "/usr/local/lib/python3.6/site-packages/scipy/linalg/basic.py:1018: RuntimeWarning: internal gelsd driver lwork query error, required iwork dimension not returned. This is likely the result of LAPACK bug 0038, fixed in LAPACK 3.2.2 (released July 21, 2010). Falling back to 'gelss' driver.\n",
      "  warnings.warn(mesg, RuntimeWarning)\n"
     ]
    },
    {
     "data": {
      "text/html": [
       "<div>\n",
       "<table border=\"1\" class=\"dataframe\">\n",
       "  <thead>\n",
       "    <tr style=\"text-align: right;\">\n",
       "      <th></th>\n",
       "      <th>Name</th>\n",
       "      <th>Matcher</th>\n",
       "      <th>Num folds</th>\n",
       "      <th>Fold 1</th>\n",
       "      <th>Fold 2</th>\n",
       "      <th>Fold 3</th>\n",
       "      <th>Fold 4</th>\n",
       "      <th>Fold 5</th>\n",
       "      <th>Mean score</th>\n",
       "    </tr>\n",
       "  </thead>\n",
       "  <tbody>\n",
       "    <tr>\n",
       "      <th>0</th>\n",
       "      <td>DecisionTree</td>\n",
       "      <td>&lt;py_entitymatching.matcher.dtmatcher.DTMatcher object at 0x10c470470&gt;</td>\n",
       "      <td>5</td>\n",
       "      <td>0.882353</td>\n",
       "      <td>0.769231</td>\n",
       "      <td>0.941176</td>\n",
       "      <td>0.933333</td>\n",
       "      <td>0.85</td>\n",
       "      <td>0.875219</td>\n",
       "    </tr>\n",
       "    <tr>\n",
       "      <th>1</th>\n",
       "      <td>RF</td>\n",
       "      <td>&lt;py_entitymatching.matcher.rfmatcher.RFMatcher object at 0x10c470390&gt;</td>\n",
       "      <td>5</td>\n",
       "      <td>1.000000</td>\n",
       "      <td>0.909091</td>\n",
       "      <td>0.947368</td>\n",
       "      <td>0.882353</td>\n",
       "      <td>1.00</td>\n",
       "      <td>0.947762</td>\n",
       "    </tr>\n",
       "    <tr>\n",
       "      <th>2</th>\n",
       "      <td>SVM</td>\n",
       "      <td>&lt;py_entitymatching.matcher.svmmatcher.SVMMatcher object at 0x10c4704a8&gt;</td>\n",
       "      <td>5</td>\n",
       "      <td>0.846154</td>\n",
       "      <td>1.000000</td>\n",
       "      <td>0.933333</td>\n",
       "      <td>1.000000</td>\n",
       "      <td>1.00</td>\n",
       "      <td>0.955897</td>\n",
       "    </tr>\n",
       "    <tr>\n",
       "      <th>3</th>\n",
       "      <td>LinReg</td>\n",
       "      <td>&lt;py_entitymatching.matcher.linregmatcher.LinRegMatcher object at 0x10e3f1e48&gt;</td>\n",
       "      <td>5</td>\n",
       "      <td>1.000000</td>\n",
       "      <td>0.727273</td>\n",
       "      <td>0.900000</td>\n",
       "      <td>1.000000</td>\n",
       "      <td>1.00</td>\n",
       "      <td>0.925455</td>\n",
       "    </tr>\n",
       "    <tr>\n",
       "      <th>4</th>\n",
       "      <td>LogReg</td>\n",
       "      <td>&lt;py_entitymatching.matcher.logregmatcher.LogRegMatcher object at 0x10e091e80&gt;</td>\n",
       "      <td>5</td>\n",
       "      <td>0.933333</td>\n",
       "      <td>0.769231</td>\n",
       "      <td>0.894737</td>\n",
       "      <td>0.933333</td>\n",
       "      <td>0.90</td>\n",
       "      <td>0.886127</td>\n",
       "    </tr>\n",
       "  </tbody>\n",
       "</table>\n",
       "</div>"
      ],
      "text/plain": [
       "           Name  \\\n",
       "0  DecisionTree   \n",
       "1            RF   \n",
       "2           SVM   \n",
       "3        LinReg   \n",
       "4        LogReg   \n",
       "\n",
       "                                                                         Matcher  \\\n",
       "0          <py_entitymatching.matcher.dtmatcher.DTMatcher object at 0x10c470470>   \n",
       "1          <py_entitymatching.matcher.rfmatcher.RFMatcher object at 0x10c470390>   \n",
       "2        <py_entitymatching.matcher.svmmatcher.SVMMatcher object at 0x10c4704a8>   \n",
       "3  <py_entitymatching.matcher.linregmatcher.LinRegMatcher object at 0x10e3f1e48>   \n",
       "4  <py_entitymatching.matcher.logregmatcher.LogRegMatcher object at 0x10e091e80>   \n",
       "\n",
       "   Num folds    Fold 1    Fold 2    Fold 3    Fold 4  Fold 5  Mean score  \n",
       "0          5  0.882353  0.769231  0.941176  0.933333    0.85    0.875219  \n",
       "1          5  1.000000  0.909091  0.947368  0.882353    1.00    0.947762  \n",
       "2          5  0.846154  1.000000  0.933333  1.000000    1.00    0.955897  \n",
       "3          5  1.000000  0.727273  0.900000  1.000000    1.00    0.925455  \n",
       "4          5  0.933333  0.769231  0.894737  0.933333    0.90    0.886127  "
      ]
     },
     "execution_count": 9,
     "metadata": {},
     "output_type": "execute_result"
    }
   ],
   "source": [
    "# Select the best ML matcher using CV\n",
    "result = em.select_matcher([dt, rf, svm, ln, lg], table=H, \n",
    "        exclude_attrs=['_id', 'ltable_' + csv_headers.WHED_INDEX, 'rtable_' + csv_headers.AOM_INDEX, 'gold_label'],\n",
    "        k=5,\n",
    "        target_attr='gold_label', metric='precision', random_state=0)\n",
    "result['cv_stats']"
   ]
  },
  {
   "cell_type": "code",
   "execution_count": 120,
   "metadata": {
    "collapsed": false
   },
   "outputs": [
    {
     "name": "stdout",
     "output_type": "stream",
     "text": [
      "OrderedDict([('selected_matcher', <py_entitymatching.matcher.svmmatcher.SVMMatcher object at 0x113efc2b0>), ('cv_stats',            Name  \\\n",
      "0  DecisionTree   \n",
      "1            RF   \n",
      "2           SVM   \n",
      "3        LinReg   \n",
      "4        LogReg   \n",
      "\n",
      "                                                                         Matcher  \\\n",
      "0          <py_entitymatching.matcher.dtmatcher.DTMatcher object at 0x113efc278>   \n",
      "1          <py_entitymatching.matcher.rfmatcher.RFMatcher object at 0x113efc080>   \n",
      "2        <py_entitymatching.matcher.svmmatcher.SVMMatcher object at 0x113efc2b0>   \n",
      "3  <py_entitymatching.matcher.linregmatcher.LinRegMatcher object at 0x113efc470>   \n",
      "4  <py_entitymatching.matcher.logregmatcher.LogRegMatcher object at 0x113efc748>   \n",
      "\n",
      "   Num folds    Fold 1    Fold 2    Fold 3    Fold 4  Fold 5  Mean score  \n",
      "0          5  0.882353  0.769231  0.941176  0.933333    0.85    0.875219  \n",
      "1          5  1.000000  0.909091  0.947368  0.882353    1.00    0.947762  \n",
      "2          5  0.846154  1.000000  0.933333  1.000000    1.00    0.955897  \n",
      "3          5  1.000000  0.727273  0.900000  1.000000    1.00    0.925455  \n",
      "4          5  0.933333  0.769231  0.894737  0.933333    0.90    0.886127  )])\n"
     ]
    }
   ],
   "source": [
    "print(result)"
   ]
  },
  {
   "cell_type": "code",
   "execution_count": 121,
   "metadata": {
    "collapsed": false
   },
   "outputs": [],
   "source": [
    "# Convert the J into a set of feature vectors using F\n",
    "K = em.extract_feature_vecs(J, \n",
    "                            feature_table=F, \n",
    "                            attrs_after='gold_label',\n",
    "                            show_progress=False)  \n",
    "K = em.impute_table(K, \n",
    "                exclude_attrs=['_id', 'ltable_' + csv_headers.WHED_INDEX, 'rtable_' + csv_headers.AOM_INDEX, 'gold_label'],\n",
    "                strategy='mean')"
   ]
  },
  {
   "cell_type": "code",
   "execution_count": 122,
   "metadata": {
    "collapsed": false
   },
   "outputs": [],
   "source": [
    "rf.fit(table=H, exclude_attrs=['_id', 'ltable_' + csv_headers.WHED_INDEX, 'rtable_' + csv_headers.AOM_INDEX, 'gold_label'], target_attr='gold_label')\n",
    "predictions = rf.predict(table=K, exclude_attrs=['_id', 'ltable_' + csv_headers.WHED_INDEX, 'rtable_' + csv_headers.AOM_INDEX, 'gold_label'],\n",
    "                append=True, target_attr='predicted', inplace=False)\n"
   ]
  },
  {
   "cell_type": "code",
   "execution_count": 123,
   "metadata": {
    "collapsed": false
   },
   "outputs": [
    {
     "name": "stdout",
     "output_type": "stream",
     "text": [
      "Precision : 98.63% (72/73)\n",
      "Recall : 91.14% (72/79)\n",
      "F1 : 94.74%\n",
      "False positives : 1 (out of 73 positive predictions)\n",
      "False negatives : 7 (out of 166 negative predictions)\n"
     ]
    }
   ],
   "source": [
    "eval_summary = em.eval_matches(predictions, 'gold_label', 'predicted')\n",
    "em.print_eval_summary(eval_summary)"
   ]
  },
  {
   "cell_type": "code",
   "execution_count": 125,
   "metadata": {
    "collapsed": false
   },
   "outputs": [
    {
     "data": {
      "text/html": [
       "<div>\n",
       "<table border=\"1\" class=\"dataframe\">\n",
       "  <thead>\n",
       "    <tr style=\"text-align: right;\">\n",
       "      <th></th>\n",
       "      <th>_id</th>\n",
       "      <th>ltable_a_id</th>\n",
       "      <th>rtable_person_id</th>\n",
       "      <th>ltable_a_name</th>\n",
       "      <th>ltable_a_country</th>\n",
       "      <th>ltable_a_city</th>\n",
       "      <th>ltable_a_prov</th>\n",
       "      <th>ltable_a_web</th>\n",
       "      <th>rtable_a_name</th>\n",
       "      <th>rtable_a_country</th>\n",
       "      <th>rtable_a_city</th>\n",
       "      <th>rtable_a_prov</th>\n",
       "      <th>rtable_a_email_server</th>\n",
       "      <th>gold_label</th>\n",
       "    </tr>\n",
       "  </thead>\n",
       "  <tbody>\n",
       "    <tr>\n",
       "      <th>331</th>\n",
       "      <td>6820</td>\n",
       "      <td>19863</td>\n",
       "      <td>17955</td>\n",
       "      <td>university amsterdam</td>\n",
       "      <td>netherlands</td>\n",
       "      <td>amsterdam</td>\n",
       "      <td>NaN</td>\n",
       "      <td>http://www.uva.nl</td>\n",
       "      <td>vu university amsterdam</td>\n",
       "      <td>netherlands</td>\n",
       "      <td>amsterdam</td>\n",
       "      <td>NaN</td>\n",
       "      <td>vu.nl</td>\n",
       "      <td>0</td>\n",
       "    </tr>\n",
       "  </tbody>\n",
       "</table>\n",
       "</div>"
      ],
      "text/plain": [
       "      _id  ltable_a_id  rtable_person_id         ltable_a_name  \\\n",
       "331  6820        19863             17955  university amsterdam   \n",
       "\n",
       "    ltable_a_country ltable_a_city ltable_a_prov       ltable_a_web  \\\n",
       "331      netherlands     amsterdam           NaN  http://www.uva.nl   \n",
       "\n",
       "               rtable_a_name rtable_a_country rtable_a_city rtable_a_prov  \\\n",
       "331  vu university amsterdam      netherlands     amsterdam           NaN   \n",
       "\n",
       "    rtable_a_email_server  gold_label  \n",
       "331                 vu.nl           0  "
      ]
     },
     "execution_count": 125,
     "metadata": {},
     "output_type": "execute_result"
    }
   ],
   "source": [
    "false_pos_df = em.get_false_positives_as_df(K, eval_summary)\n",
    "# false_pos_df.head(n = false_pos_df.size)\n",
    "# false positive examples\n",
    "table_id_pos = false_pos_df['_id']\n",
    "J.loc[J['_id'].isin(table_id_pos)]\n"
   ]
  },
  {
   "cell_type": "code",
   "execution_count": 86,
   "metadata": {
    "collapsed": false
   },
   "outputs": [
    {
     "data": {
      "text/html": [
       "<div>\n",
       "<table border=\"1\" class=\"dataframe\">\n",
       "  <thead>\n",
       "    <tr style=\"text-align: right;\">\n",
       "      <th></th>\n",
       "      <th>_id</th>\n",
       "      <th>ltable_a_id</th>\n",
       "      <th>rtable_person_id</th>\n",
       "      <th>ltable_a_name</th>\n",
       "      <th>ltable_a_country</th>\n",
       "      <th>ltable_a_city</th>\n",
       "      <th>ltable_a_prov</th>\n",
       "      <th>ltable_a_web</th>\n",
       "      <th>rtable_a_name</th>\n",
       "      <th>rtable_a_country</th>\n",
       "      <th>rtable_a_city</th>\n",
       "      <th>rtable_a_prov</th>\n",
       "      <th>rtable_a_email_server</th>\n",
       "      <th>gold_label</th>\n",
       "    </tr>\n",
       "  </thead>\n",
       "  <tbody>\n",
       "    <tr>\n",
       "      <th>416</th>\n",
       "      <td>8782</td>\n",
       "      <td>20621</td>\n",
       "      <td>31808</td>\n",
       "      <td>university warwick</td>\n",
       "      <td>united kingdom</td>\n",
       "      <td>coventry</td>\n",
       "      <td>NaN</td>\n",
       "      <td>http://www.warwick.ac.uk</td>\n",
       "      <td>warwick business school</td>\n",
       "      <td>united kingdom</td>\n",
       "      <td>coventry</td>\n",
       "      <td>westmidlands</td>\n",
       "      <td>wbs.ac.uk</td>\n",
       "      <td>1</td>\n",
       "    </tr>\n",
       "    <tr>\n",
       "      <th>411</th>\n",
       "      <td>8728</td>\n",
       "      <td>20607</td>\n",
       "      <td>50974</td>\n",
       "      <td>university utah</td>\n",
       "      <td>united states</td>\n",
       "      <td>salt lake city</td>\n",
       "      <td>utah</td>\n",
       "      <td>http://www.utah.edu</td>\n",
       "      <td>eccles school university utah</td>\n",
       "      <td>united states</td>\n",
       "      <td>salt lake city</td>\n",
       "      <td>utah</td>\n",
       "      <td>utah.edu</td>\n",
       "      <td>1</td>\n",
       "    </tr>\n",
       "    <tr>\n",
       "      <th>315</th>\n",
       "      <td>6525</td>\n",
       "      <td>18757</td>\n",
       "      <td>5307</td>\n",
       "      <td>luigi bocconi university</td>\n",
       "      <td>italy</td>\n",
       "      <td>milano</td>\n",
       "      <td>NaN</td>\n",
       "      <td>http://www.unibocconi.it</td>\n",
       "      <td>bocconi university</td>\n",
       "      <td>italy</td>\n",
       "      <td>milan</td>\n",
       "      <td>italy</td>\n",
       "      <td>sdabocconi.it</td>\n",
       "      <td>1</td>\n",
       "    </tr>\n",
       "    <tr>\n",
       "      <th>316</th>\n",
       "      <td>6531</td>\n",
       "      <td>18757</td>\n",
       "      <td>16712</td>\n",
       "      <td>luigi bocconi university</td>\n",
       "      <td>italy</td>\n",
       "      <td>milano</td>\n",
       "      <td>NaN</td>\n",
       "      <td>http://www.unibocconi.it</td>\n",
       "      <td>bocconi university</td>\n",
       "      <td>italy</td>\n",
       "      <td>milan</td>\n",
       "      <td>NaN</td>\n",
       "      <td>unibocconi.it</td>\n",
       "      <td>1</td>\n",
       "    </tr>\n",
       "    <tr>\n",
       "      <th>401</th>\n",
       "      <td>8497</td>\n",
       "      <td>10172</td>\n",
       "      <td>56019</td>\n",
       "      <td>leuven university college</td>\n",
       "      <td>belgium</td>\n",
       "      <td>heverlee</td>\n",
       "      <td>NaN</td>\n",
       "      <td>http://www.khleuven.be</td>\n",
       "      <td>ku leuven</td>\n",
       "      <td>belgium</td>\n",
       "      <td>leuven</td>\n",
       "      <td>NaN</td>\n",
       "      <td>student.kuleuven.be</td>\n",
       "      <td>1</td>\n",
       "    </tr>\n",
       "    <tr>\n",
       "      <th>420</th>\n",
       "      <td>8860</td>\n",
       "      <td>20629</td>\n",
       "      <td>39304</td>\n",
       "      <td>university western ontario</td>\n",
       "      <td>canada</td>\n",
       "      <td>london</td>\n",
       "      <td>ontario</td>\n",
       "      <td>http://www.uwo.ca</td>\n",
       "      <td>western university</td>\n",
       "      <td>canada</td>\n",
       "      <td>london</td>\n",
       "      <td>on</td>\n",
       "      <td>ivey.uwo.ca</td>\n",
       "      <td>1</td>\n",
       "    </tr>\n",
       "    <tr>\n",
       "      <th>463</th>\n",
       "      <td>9529</td>\n",
       "      <td>11313</td>\n",
       "      <td>46559</td>\n",
       "      <td>makerere university</td>\n",
       "      <td>uganda</td>\n",
       "      <td>kampala</td>\n",
       "      <td>NaN</td>\n",
       "      <td>http://www.mak.ac.ug/</td>\n",
       "      <td>makerere university business school</td>\n",
       "      <td>uganda</td>\n",
       "      <td>kampala</td>\n",
       "      <td>NaN</td>\n",
       "      <td>mubs.ac.ug</td>\n",
       "      <td>1</td>\n",
       "    </tr>\n",
       "  </tbody>\n",
       "</table>\n",
       "</div>"
      ],
      "text/plain": [
       "      _id  ltable_a_id  rtable_person_id               ltable_a_name  \\\n",
       "416  8782        20621             31808          university warwick   \n",
       "411  8728        20607             50974             university utah   \n",
       "315  6525        18757              5307    luigi bocconi university   \n",
       "316  6531        18757             16712    luigi bocconi university   \n",
       "401  8497        10172             56019   leuven university college   \n",
       "420  8860        20629             39304  university western ontario   \n",
       "463  9529        11313             46559         makerere university   \n",
       "\n",
       "    ltable_a_country   ltable_a_city ltable_a_prov              ltable_a_web  \\\n",
       "416   united kingdom        coventry           NaN  http://www.warwick.ac.uk   \n",
       "411    united states  salt lake city          utah       http://www.utah.edu   \n",
       "315            italy          milano           NaN  http://www.unibocconi.it   \n",
       "316            italy          milano           NaN  http://www.unibocconi.it   \n",
       "401          belgium        heverlee           NaN    http://www.khleuven.be   \n",
       "420           canada          london       ontario         http://www.uwo.ca   \n",
       "463           uganda         kampala           NaN     http://www.mak.ac.ug/   \n",
       "\n",
       "                           rtable_a_name rtable_a_country   rtable_a_city  \\\n",
       "416              warwick business school   united kingdom        coventry   \n",
       "411        eccles school university utah    united states  salt lake city   \n",
       "315                   bocconi university            italy           milan   \n",
       "316                   bocconi university            italy           milan   \n",
       "401                            ku leuven          belgium          leuven   \n",
       "420                   western university           canada          london   \n",
       "463  makerere university business school           uganda         kampala   \n",
       "\n",
       "    rtable_a_prov rtable_a_email_server  gold_label  \n",
       "416  westmidlands             wbs.ac.uk           1  \n",
       "411          utah              utah.edu           1  \n",
       "315         italy         sdabocconi.it           1  \n",
       "316           NaN         unibocconi.it           1  \n",
       "401           NaN   student.kuleuven.be           1  \n",
       "420            on           ivey.uwo.ca           1  \n",
       "463           NaN            mubs.ac.ug           1  "
      ]
     },
     "execution_count": 86,
     "metadata": {},
     "output_type": "execute_result"
    }
   ],
   "source": [
    "false_neg_df = em.get_false_negatives_as_df(K, eval_summary)\n",
    "# false_pos_df.head(n = false_pos_df.size)\n",
    "# false positive examples\n",
    "table_id_neg = false_neg_df['_id']\n",
    "J.loc[J['_id'].isin(table_id_neg)]"
   ]
  },
  {
   "cell_type": "code",
   "execution_count": 107,
   "metadata": {
    "collapsed": false
   },
   "outputs": [
    {
     "data": {
      "text/plain": [
       "['abc', 'edu']"
      ]
     },
     "execution_count": 107,
     "metadata": {},
     "output_type": "execute_result"
    }
   ],
   "source": [
    "str1 = \"http://abc.edu\"\n",
    "str1.replace('http://','').split('.')"
   ]
  },
  {
   "cell_type": "code",
   "execution_count": null,
   "metadata": {
    "collapsed": true
   },
   "outputs": [],
   "source": []
  }
 ],
 "metadata": {
  "kernelspec": {
   "display_name": "Python 3",
   "language": "python",
   "name": "python3"
  },
  "language_info": {
   "codemirror_mode": {
    "name": "ipython",
    "version": 3
   },
   "file_extension": ".py",
   "mimetype": "text/x-python",
   "name": "python",
   "nbconvert_exporter": "python",
   "pygments_lexer": "ipython3",
   "version": "3.6.1"
  }
 },
 "nbformat": 4,
 "nbformat_minor": 2
}
