{
 "cells": [
  {
   "cell_type": "code",
   "execution_count": 45,
   "metadata": {
    "collapsed": false
   },
   "outputs": [],
   "source": [
    "import re\n",
    "import csv\n",
    "import pandas as pd\n",
    "from constants import countries, states, cities, domains, csv_headers\n",
    "\n",
    "class Cleaner:\n",
    "    def __init__(self, csv_path, index_column, used_headers, encoding = 'ISO-8859-1'):\n",
    "        self.index_column = index_column\n",
    "        self.data = pd.read_csv(csv_path, encoding = encoding, index_col = index_column, usecols = used_headers)\n",
    "        \n",
    "    def data(self):\n",
    "        return data\n",
    "    \n",
    "    def to_csv(self, filename):\n",
    "        self.data.to_csv(filename, encoding = 'UTF-8', index_label = self.index_column)\n",
    "    \n",
    "    ### CLEAN AFFILIATION INFORMATION\n",
    "    def clean_affiliation(self, a_name):\n",
    "        self.data[a_name] = self.data[a_name].str.replace('U.','University')\n",
    "        self.data[a_name] = re.sub(r\"(of|at|in|,|-|&|\\(|\\|')\", \" \", self.data[a_name])\n",
    "        self.data[a_name] = re.sub(r'\\s+', \" \", self.data[a_name])\n",
    "        self.data[a_name] = self.data[a_name].str.lower()\n",
    "        return self.data[a_name]\n",
    "    \n",
    "    ### CLEAN EMAIL SERVER INFORMATION\n",
    "    # This function aims to return the essential/ importantant information from individuals' email\n",
    "    # server domain. For example, in the case of email server of \"wharton.upenn.edu\" and university \n",
    "    # website address of \"http://www.upenn.edu\", important is the information \"upenn\". This is\n",
    "    # because we want to map affiliations at the university level, instead of the school level,\n",
    "    #  e.g. Wharton is the business school of University of Pensylvenia. Subsequently, a feature will\n",
    "    #  capture whether the essential information is contained in the affiliation's website address\n",
    "\n",
    "    # In order to extract the important information, we eliminate (1) country domains (e.g. \"au\" is\n",
    "    # Australia's country domain), (2) academic domains (i.e. \"edu\" and \"ac\" )), and (3) common domains\n",
    "    # (e.g. \"com, \"net\", \"info\"). After eliminating these domains, we take the first info - which\n",
    "    # is supposed to capture the highest level of domain at the affiliation level. For example, in\n",
    "    # the case of \"wharton.upenn.edu\", after eliminating the abovementioned domains, we will have\n",
    "    # \"wharton.upenn\", of which \"upenn\" is at the university level and \"wharton\" is at the school\n",
    "    # level. We will only capture the university-evel info, i.e. \"upenn\"\n",
    "\n",
    "\n",
    "    # EXAMPLE: \n",
    "    # \"Catolica Lisbon School of Business and Economics\" - is the business school of Catholic U. Portugal\n",
    "    # AOM's email server domain: \"clsbe.lisboa.ucp.pt\" ; WHED's affiliation website: \"http://www.ucp.pt\"\n",
    "    # -----\n",
    "    # The essential information of the email server domain is \"ucp\"\n",
    "    # \"ucp\" appears in the affiation website\n",
    "    # --> This helps link school to university !!!!!!!! YAYYYYYYY\n",
    "    def clean_email_server(self, a_email_server):\n",
    "        n = self.data[a_email_server].size\n",
    "\n",
    "        for i in range (0, n):\n",
    "            email_server = self.data[a_email_server].iloc[i].strip().split('.')\n",
    "\n",
    "            # The sequence of the following conditional commands is important. It is because the country\n",
    "            # domains are usually the last one on the right of an email server domain, and it is followed\n",
    "            # either by academic domain and/or common domain. \n",
    "            if email_server[-1] in country_domains:\n",
    "                del email_server[len(email_server)-1]\n",
    "\n",
    "            if email_server[-1] in academic_domains:\n",
    "                del email_server[len(email_server)-1]\n",
    "            if email_server[-1] in common_domains:\n",
    "                del email_server[len(email_server)-1]\n",
    "            if email_server[-1] in academic_domains:\n",
    "                del email_server[len(email_server)-1]\n",
    "\n",
    "            # return the highest level information only\n",
    "            self.data[a_email_server].iloc[i] = email_server[len(email_server)-1]\n",
    "        return self.data[a_email_server]\n",
    "    \n",
    "    ### CLEAN CITY INFORMATION\n",
    "    def clean_city(self, a_city):\n",
    "        D = cities.CITIES\n",
    "\n",
    "        n = self.data[a_city].size\n",
    "        for i in range (0, n):\n",
    "            if self.data[a_city].iloc[i] in D:\n",
    "                self.data[a_city].iloc[i] = D[self.data[a_city].iloc[i]]\n",
    "\n",
    "        self.data[a_city] = re.sub(r\"(of|at|in|,|-|&|\\(|\\|')\", \" \", self.data[a_city])\n",
    "        self.data[a_city] = re.sub(r'\\s+', \" \", self.data[a_city])\n",
    "        self.data[a_city] = self.data[a_city].str.lower()\n",
    "        self.data[a_city] = self.data[a_city].str.strip()        \n",
    "\n",
    "        return self.data[a_city]\n",
    "    \n",
    "    ### CLEAN COUNTRY INFORMATION\n",
    "    def clean_country(self, a_country):\n",
    "        country_dict = countries.COUNTRIES\n",
    "        n = self.data[a_country].size\n",
    "        for i in range (0, n):\n",
    "            if self.data[a_country].iloc[i].strip() in country_dict:\n",
    "                self.data[a_country].iloc[i] = country_dict[self.data[a_country].iloc[i]]\n",
    "        self.data[a_country] = self.data[a_country].str.lower()\n",
    "        self.data[a_country] = self.data[a_country].str.strip()\n",
    "        return self.data[a_country]\n",
    "    \n",
    "    ### CLEAN STATES INFORMATION\n",
    "    def clean_states(self, a_prov, a_country):\n",
    "        us_states = states.US_STATES\n",
    "        n = self.data[a_prov].size\n",
    "        for i in range (0, n):\n",
    "            if self.data[a_prov].iloc[i] in us_states:\n",
    "                if isinstance(us_states[self.data[a_prov].iloc[i]], str):\n",
    "                    self.data[a_prov].iloc[i] = us_states[self.data[a_prov].iloc[i]]\n",
    "                else:\n",
    "                    self.data[a_country].iloc[i] = us_states[self.data[a_prov].iloc[i]][\"country\"]\n",
    "                    self.data[a_prov].iloc[i] = us_states[self.data[a_prov].iloc[i]][\"province\"]                \n",
    "        self.data[a_prov] = self.data[a_prov].str.lower()\n",
    "        self.data[a_prov] = self.data[a_prov].str.strip()\n",
    "\n",
    "        return (self.data[a_prov], self.data[a_country])\n",
    "    \n",
    "    "
   ]
  },
  {
   "cell_type": "code",
   "execution_count": 60,
   "metadata": {
    "collapsed": false
   },
   "outputs": [
    {
     "name": "stdout",
     "output_type": "stream",
     "text": [
      "a\n",
      "wisc\n",
      "b\n"
     ]
    }
   ],
   "source": []
  },
  {
   "cell_type": "code",
   "execution_count": 15,
   "metadata": {
    "collapsed": true
   },
   "outputs": [],
   "source": []
  },
  {
   "cell_type": "code",
   "execution_count": null,
   "metadata": {
    "collapsed": true
   },
   "outputs": [],
   "source": []
  }
 ],
 "metadata": {
  "kernelspec": {
   "display_name": "Python 3",
   "language": "python",
   "name": "python3"
  },
  "language_info": {
   "codemirror_mode": {
    "name": "ipython",
    "version": 3
   },
   "file_extension": ".py",
   "mimetype": "text/x-python",
   "name": "python",
   "nbconvert_exporter": "python",
   "pygments_lexer": "ipython3",
   "version": "3.6.1"
  }
 },
 "nbformat": 4,
 "nbformat_minor": 2
}
