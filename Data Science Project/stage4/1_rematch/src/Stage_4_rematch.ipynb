{
 "cells": [
  {
   "cell_type": "code",
   "execution_count": 1,
   "metadata": {
    "collapsed": false
   },
   "outputs": [
    {
     "name": "stdout",
     "output_type": "stream",
     "text": [
      "magellan version:0.1.0\n"
     ]
    },
    {
     "name": "stderr",
     "output_type": "stream",
     "text": [
      "/Users/Ken/anaconda/lib/python3.5/site-packages/pandas/computation/__init__.py:19: UserWarning: The installed version of numexpr 2.4.4 is not supported in pandas and will be not be used\n",
      "\n",
      "  UserWarning)\n"
     ]
    }
   ],
   "source": [
    "import sys\n",
    "import os\n",
    "import py_entitymatching as em\n",
    "print('magellan version:' + em.__version__)\n",
    "import re\n",
    "import csv\n",
    "import pandas as pd\n",
    "\n",
    "from constants import csv_headers\n",
    "import blocker, custom_matcher"
   ]
  },
  {
   "cell_type": "code",
   "execution_count": 2,
   "metadata": {
    "collapsed": true
   },
   "outputs": [],
   "source": [
    "working_dir = os.path.dirname(os.getcwd())\n",
    "path_to_csv_dir = working_dir + os.sep + 'csv_files'+ os.sep"
   ]
  },
  {
   "cell_type": "markdown",
   "metadata": {},
   "source": [
    "# STEP 2 - MAGELLAN"
   ]
  },
  {
   "cell_type": "markdown",
   "metadata": {},
   "source": [
    "### CHOOSE RANDOM FOREST ###\n",
    "\n",
    "Below are the subsequent steps:\n",
    "* Downsizing data - using whole AOM dataset with y_parameter of 3\n",
    "* Blocking using the previous rule on the downsized dataset\n",
    "* Applying the classifier on the blocked dataset"
   ]
  },
  {
   "cell_type": "code",
   "execution_count": 4,
   "metadata": {
    "collapsed": false
   },
   "outputs": [
    {
     "name": "stderr",
     "output_type": "stream",
     "text": [
      "WARNING:py_entitymatching.io.parsers:Metadata file is not present in the given path; proceeding to read the csv file.\n",
      "WARNING:py_entitymatching.io.parsers:Metadata file is not present in the given path; proceeding to read the csv file.\n"
     ]
    }
   ],
   "source": [
    "AOM = em.read_csv_metadata(path_to_csv_dir + '2cleaned_aom.csv', key = csv_headers.AOM_INDEX)\n",
    "WHED = em.read_csv_metadata(path_to_csv_dir + '2cleaned_whed.csv', key = csv_headers.WHED_INDEX)\n",
    "\n",
    "\n"
   ]
  },
  {
   "cell_type": "code",
   "execution_count": null,
   "metadata": {
    "collapsed": true
   },
   "outputs": [],
   "source": [
    "# building inverted index based on B\n",
    "final_WHED, final_AOM = em.down_sample(WHED, AOM, size=9532, y_param=3)"
   ]
  },
  {
   "cell_type": "code",
   "execution_count": null,
   "metadata": {
    "collapsed": false
   },
   "outputs": [],
   "source": [
    "em.save_table(final_AOM, path_to_csv_dir + '3downsized_AOM.pkl')\n",
    "em.save_table(final_WHED, path_to_csv_dir + '3downsized_WHED.pkl')"
   ]
  },
  {
   "cell_type": "code",
   "execution_count": null,
   "metadata": {
    "collapsed": false
   },
   "outputs": [],
   "source": [
    "final_C = blocker.blocking(final_WHED, final_AOM, csv_headers.WHED, csv_headers.AOM)\n",
    "final_C.head(n=5)"
   ]
  },
  {
   "cell_type": "code",
   "execution_count": null,
   "metadata": {
    "collapsed": false
   },
   "outputs": [],
   "source": [
    "em.save_table(final_C, path_to_csv_dir + '4blocked_samplespace.pkl')"
   ]
  },
  {
   "cell_type": "markdown",
   "metadata": {},
   "source": [
    "### Load model and classify"
   ]
  },
  {
   "cell_type": "code",
   "execution_count": 5,
   "metadata": {
    "collapsed": false
   },
   "outputs": [
    {
     "name": "stdout",
     "output_type": "stream",
     "text": [
      "(27887, 13)\n"
     ]
    },
    {
     "data": {
      "text/html": [
       "<div>\n",
       "<table border=\"1\" class=\"dataframe\">\n",
       "  <thead>\n",
       "    <tr style=\"text-align: right;\">\n",
       "      <th></th>\n",
       "      <th>_id</th>\n",
       "      <th>ltable_a_id</th>\n",
       "      <th>rtable_person_id</th>\n",
       "      <th>ltable_a_name</th>\n",
       "      <th>ltable_a_city</th>\n",
       "      <th>ltable_a_prov</th>\n",
       "      <th>ltable_a_country</th>\n",
       "      <th>ltable_a_web</th>\n",
       "      <th>rtable_a_name</th>\n",
       "      <th>rtable_a_city</th>\n",
       "      <th>rtable_a_prov</th>\n",
       "      <th>rtable_a_country</th>\n",
       "      <th>rtable_a_email_server</th>\n",
       "    </tr>\n",
       "  </thead>\n",
       "  <tbody>\n",
       "    <tr>\n",
       "      <th>0</th>\n",
       "      <td>0</td>\n",
       "      <td>9</td>\n",
       "      <td>54111</td>\n",
       "      <td>aalborg university</td>\n",
       "      <td>aalborg</td>\n",
       "      <td>NaN</td>\n",
       "      <td>denmark</td>\n",
       "      <td>http://www.aau.dk</td>\n",
       "      <td>aalborg university</td>\n",
       "      <td>branbrand</td>\n",
       "      <td>NaN</td>\n",
       "      <td>denmark</td>\n",
       "      <td>u-k.dk</td>\n",
       "    </tr>\n",
       "    <tr>\n",
       "      <th>1</th>\n",
       "      <td>1</td>\n",
       "      <td>9</td>\n",
       "      <td>54203</td>\n",
       "      <td>aalborg university</td>\n",
       "      <td>aalborg</td>\n",
       "      <td>NaN</td>\n",
       "      <td>denmark</td>\n",
       "      <td>http://www.aau.dk</td>\n",
       "      <td>aalborg university</td>\n",
       "      <td>aalborg</td>\n",
       "      <td>NaN</td>\n",
       "      <td>denmark</td>\n",
       "      <td>hum.aau.dk</td>\n",
       "    </tr>\n",
       "    <tr>\n",
       "      <th>2</th>\n",
       "      <td>2</td>\n",
       "      <td>10</td>\n",
       "      <td>29724</td>\n",
       "      <td>aalto university</td>\n",
       "      <td>espoo</td>\n",
       "      <td>NaN</td>\n",
       "      <td>finland</td>\n",
       "      <td>http://www.aalto.fi/fi/</td>\n",
       "      <td>aalto university</td>\n",
       "      <td>espoo</td>\n",
       "      <td>NaN</td>\n",
       "      <td>finland</td>\n",
       "      <td>aalto.fi</td>\n",
       "    </tr>\n",
       "    <tr>\n",
       "      <th>3</th>\n",
       "      <td>3</td>\n",
       "      <td>10</td>\n",
       "      <td>14261</td>\n",
       "      <td>aalto university</td>\n",
       "      <td>espoo</td>\n",
       "      <td>NaN</td>\n",
       "      <td>finland</td>\n",
       "      <td>http://www.aalto.fi/fi/</td>\n",
       "      <td>aalto university</td>\n",
       "      <td>espoo</td>\n",
       "      <td>NaN</td>\n",
       "      <td>finland</td>\n",
       "      <td>stratnet.org</td>\n",
       "    </tr>\n",
       "    <tr>\n",
       "      <th>4</th>\n",
       "      <td>4</td>\n",
       "      <td>10</td>\n",
       "      <td>43727</td>\n",
       "      <td>aalto university</td>\n",
       "      <td>espoo</td>\n",
       "      <td>NaN</td>\n",
       "      <td>finland</td>\n",
       "      <td>http://www.aalto.fi/fi/</td>\n",
       "      <td>aalto university</td>\n",
       "      <td>helsinki</td>\n",
       "      <td>helsinki</td>\n",
       "      <td>finland</td>\n",
       "      <td>aalto.fi</td>\n",
       "    </tr>\n",
       "  </tbody>\n",
       "</table>\n",
       "</div>"
      ],
      "text/plain": [
       "   _id  ltable_a_id  rtable_person_id       ltable_a_name ltable_a_city  \\\n",
       "0    0            9             54111  aalborg university       aalborg   \n",
       "1    1            9             54203  aalborg university       aalborg   \n",
       "2    2           10             29724    aalto university         espoo   \n",
       "3    3           10             14261    aalto university         espoo   \n",
       "4    4           10             43727    aalto university         espoo   \n",
       "\n",
       "  ltable_a_prov ltable_a_country             ltable_a_web       rtable_a_name  \\\n",
       "0           NaN          denmark        http://www.aau.dk  aalborg university   \n",
       "1           NaN          denmark        http://www.aau.dk  aalborg university   \n",
       "2           NaN          finland  http://www.aalto.fi/fi/    aalto university   \n",
       "3           NaN          finland  http://www.aalto.fi/fi/    aalto university   \n",
       "4           NaN          finland  http://www.aalto.fi/fi/    aalto university   \n",
       "\n",
       "  rtable_a_city rtable_a_prov rtable_a_country rtable_a_email_server  \n",
       "0     branbrand           NaN          denmark                u-k.dk  \n",
       "1       aalborg           NaN          denmark            hum.aau.dk  \n",
       "2         espoo           NaN          finland              aalto.fi  \n",
       "3         espoo           NaN          finland          stratnet.org  \n",
       "4      helsinki      helsinki          finland              aalto.fi  "
      ]
     },
     "execution_count": 5,
     "metadata": {},
     "output_type": "execute_result"
    }
   ],
   "source": [
    "final_C = em.load_table(path_to_csv_dir + '4blocked_samplespace.pkl', metadata_ext='.pklmetadata')\n",
    "em.set_ltable(final_C, WHED)\n",
    "em.set_rtable(final_C, AOM)\n",
    "em.set_fk_ltable(final_C, 'ltable_' + csv_headers.WHED_INDEX)\n",
    "em.set_fk_rtable(final_C, 'rtable_' + csv_headers.AOM_INDEX)\n",
    "print(final_C.shape)\n",
    "final_C.head()"
   ]
  },
  {
   "cell_type": "code",
   "execution_count": null,
   "metadata": {
    "collapsed": false
   },
   "outputs": [],
   "source": [
    "F = em.get_features_for_matching(WHED, AOM)\n",
    "em.add_blackbox_feature(F, 'is_same_server', custom_matcher.is_same_server)\n",
    "em.add_blackbox_feature(F, 'is_same_single_server', custom_matcher.is_same_single_server)\n",
    "\n",
    "\n",
    "final_K = em.extract_feature_vecs(final_C, \n",
    "                                feature_table=F, \n",
    "                                show_progress=False)  \n",
    "final_K = em.impute_table(final_K, \n",
    "                exclude_attrs=['_id', 'ltable_' + csv_headers.WHED_INDEX, 'rtable_' + csv_headers.AOM_INDEX],\n",
    "                strategy='mean')"
   ]
  },
  {
   "cell_type": "code",
   "execution_count": null,
   "metadata": {
    "collapsed": false
   },
   "outputs": [],
   "source": [
    "em.save_table(final_K,'5feature_vector')\n",
    "final_K.head()"
   ]
  },
  {
   "cell_type": "code",
   "execution_count": 18,
   "metadata": {
    "collapsed": false
   },
   "outputs": [
    {
     "data": {
      "text/plain": [
       "(27887, 37)"
      ]
     },
     "execution_count": 18,
     "metadata": {},
     "output_type": "execute_result"
    }
   ],
   "source": [
    "# We have 37 features\n",
    "final_K.shape  "
   ]
  },
  {
   "cell_type": "code",
   "execution_count": null,
   "metadata": {
    "collapsed": false
   },
   "outputs": [],
   "source": [
    "rf = em.load_object('./rf_classifier.pkl')\n",
    "\n",
    "predictions = rf.predict(table=final_K, exclude_attrs=['_id', 'ltable_' + csv_headers.WHED_INDEX, 'rtable_' + csv_headers.AOM_INDEX],\n",
    "                append=True, target_attr='predicted', inplace=False)"
   ]
  },
  {
   "cell_type": "code",
   "execution_count": null,
   "metadata": {
    "collapsed": false
   },
   "outputs": [],
   "source": [
    "matched = predictions[predictions['predicted'] == 1]\n",
    "matched.shape\n",
    "matched_id = matched['_id']\n",
    "df = final_C.loc[final_C['_id'].isin(matched_id)]\n",
    "\n",
    "# Keep American universities only\n",
    "df = df[df.rtable_a_country == 'united states']\n",
    "df.to_csv(path_to_csv_dir +'6matched_tuples.csv', index=False)\n"
   ]
  },
  {
   "cell_type": "code",
   "execution_count": null,
   "metadata": {
    "collapsed": true
   },
   "outputs": [],
   "source": []
  }
 ],
 "metadata": {
  "kernelspec": {
   "display_name": "Python 3",
   "language": "python",
   "name": "python3"
  },
  "language_info": {
   "codemirror_mode": {
    "name": "ipython",
    "version": 3
   },
   "file_extension": ".py",
   "mimetype": "text/x-python",
   "name": "python",
   "nbconvert_exporter": "python",
   "pygments_lexer": "ipython3",
   "version": "3.5.3"
  }
 },
 "nbformat": 4,
 "nbformat_minor": 2
}
